{
 "cells": [
  {
   "cell_type": "code",
   "execution_count": 3,
   "metadata": {},
   "outputs": [
    {
     "name": "stderr",
     "output_type": "stream",
     "text": [
      "Using TensorFlow backend.\n"
     ]
    }
   ],
   "source": [
    "import pandas as pd\n",
    "import numpy as np\n",
    "import os\n",
    "import matplotlib.pyplot as plt\n",
    "%matplotlib inline\n",
    "\n",
    "import librosa\n",
    "\n",
    "from sklearn.preprocessing import LabelEncoder, StandardScaler\n",
    "from sklearn.model_selection import train_test_split\n",
    "\n",
    "import keras\n",
    "from keras.models import Sequential\n",
    "from keras.layers import Conv1D, Conv2D, MaxPooling1D, Flatten, LSTM, Activation, Dropout, Dense"
   ]
  },
  {
   "cell_type": "markdown",
   "metadata": {},
   "source": [
    "## IMPORT DATA"
   ]
  },
  {
   "cell_type": "code",
   "execution_count": 7,
   "metadata": {},
   "outputs": [],
   "source": [
    "df_tess = pd.read_csv('data/tess.csv')\n",
    "df_radvess = pd.read_csv('data/radvess.csv')\n",
    "df_savee = pd.read_csv('data/savee.csv')"
   ]
  },
  {
   "cell_type": "code",
   "execution_count": 8,
   "metadata": {},
   "outputs": [],
   "source": [
    "df_tess['gender'] = 'female'\n",
    "df_savee['gender'] = 'male'"
   ]
  },
  {
   "cell_type": "code",
   "execution_count": 12,
   "metadata": {},
   "outputs": [],
   "source": [
    "def gender(x):\n",
    "    if int(x[35:-4]) % 2 == 0:\n",
    "        return 'female'\n",
    "    else:\n",
    "        return 'male'\n",
    "df_radvess['gender'] = df_radvess['filename'].apply(lambda x: gender(x))"
   ]
  },
  {
   "cell_type": "code",
   "execution_count": 16,
   "metadata": {},
   "outputs": [],
   "source": [
    "from src.clean_data import clean_radvess, clean_tess, clean_savee\n",
    "\n",
    "df_tess = clean_tess(df_tess)\n",
    "df_radvess = clean_radvess(df_radvess)\n",
    "df_savee = clean_savee(df_savee)"
   ]
  },
  {
   "cell_type": "code",
   "execution_count": 17,
   "metadata": {},
   "outputs": [],
   "source": [
    "df = pd.concat([df_tess, df_radvess, df_savee], axis=0)"
   ]
  },
  {
   "cell_type": "code",
   "execution_count": 19,
   "metadata": {},
   "outputs": [],
   "source": [
    "def uniform_emotion(x):\n",
    "    emotion_dict = {'fear' : 'fearful', 'ps' : 'surprised', 'calm' : 'neutral'}\n",
    "    if x in emotion_dict:\n",
    "        return emotion_dict[x]\n",
    "    else: return x\n",
    "\n",
    "df['emotion'] = df['emotion'].apply(lambda x: uniform_emotion(x))\n",
    "df = df[df['emotion'].notnull()]\n",
    "\n",
    "emotional_decrease = {'neutral' : 'neutral', 'calm' : 'neutral', 'happy' : 'positive', 'sad' : 'negative', 'angry' : 'negative', 'fearful' : 'negative', 'disgust' : 'negative', 'surprised' : 'surprised'}\n",
    "\n",
    "df['emotion'] = df['emotion'].apply(lambda x: emotional_decrease[x])\n",
    "df = df[df['emotion'] != 'surprised']"
   ]
  },
  {
   "cell_type": "code",
   "execution_count": 20,
   "metadata": {},
   "outputs": [],
   "source": [
    "df['emotion'] = df['gender'] + '_' + df['emotion']\n",
    "df = df.drop(columns='gender')"
   ]
  },
  {
   "cell_type": "code",
   "execution_count": null,
   "metadata": {},
   "outputs": [],
   "source": []
  },
  {
   "cell_type": "code",
   "execution_count": null,
   "metadata": {},
   "outputs": [],
   "source": []
  },
  {
   "cell_type": "code",
   "execution_count": null,
   "metadata": {},
   "outputs": [],
   "source": []
  },
  {
   "cell_type": "markdown",
   "metadata": {},
   "source": [
    "## CREATE X AND Y"
   ]
  },
  {
   "cell_type": "code",
   "execution_count": 21,
   "metadata": {},
   "outputs": [],
   "source": [
    "emotion = df['emotion']\n",
    "encoder = LabelEncoder()\n",
    "y = encoder.fit_transform(emotion)"
   ]
  },
  {
   "cell_type": "code",
   "execution_count": 22,
   "metadata": {},
   "outputs": [],
   "source": [
    "# df.groupby(emotion).count()"
   ]
  },
  {
   "cell_type": "code",
   "execution_count": 23,
   "metadata": {},
   "outputs": [
    {
     "data": {
      "text/plain": [
       "array(['female_negative', 'female_neutral', 'female_positive',\n",
       "       'male_negative', 'male_neutral', 'male_positive'], dtype=object)"
      ]
     },
     "execution_count": 23,
     "metadata": {},
     "output_type": "execute_result"
    }
   ],
   "source": [
    "encoder.inverse_transform(np.unique(y))"
   ]
  },
  {
   "cell_type": "code",
   "execution_count": 24,
   "metadata": {},
   "outputs": [
    {
     "data": {
      "text/plain": [
       "array([0, 1, 2, 3, 4, 5])"
      ]
     },
     "execution_count": 24,
     "metadata": {},
     "output_type": "execute_result"
    }
   ],
   "source": [
    "np.unique(y)"
   ]
  },
  {
   "cell_type": "code",
   "execution_count": 25,
   "metadata": {},
   "outputs": [],
   "source": [
    "scaler = StandardScaler()\n",
    "X = scaler.fit(np.array(df.iloc[:, :-1], dtype = float))\n",
    "X = scaler.transform(np.array(df.iloc[:, :-1], dtype = float))\n",
    "X = X.reshape(X.shape[0], X.shape[1],1)"
   ]
  },
  {
   "cell_type": "code",
   "execution_count": 26,
   "metadata": {},
   "outputs": [
    {
     "data": {
      "text/plain": [
       "(4061, 25, 1)"
      ]
     },
     "execution_count": 26,
     "metadata": {},
     "output_type": "execute_result"
    }
   ],
   "source": [
    "X.shape"
   ]
  },
  {
   "cell_type": "markdown",
   "metadata": {},
   "source": [
    "## TRAIN_TEST_SPLIT"
   ]
  },
  {
   "cell_type": "code",
   "execution_count": 27,
   "metadata": {},
   "outputs": [],
   "source": [
    "X_train, X_test, y_train, y_test = train_test_split(X, y, test_size=0.2, stratify=y)"
   ]
  },
  {
   "cell_type": "code",
   "execution_count": 28,
   "metadata": {},
   "outputs": [],
   "source": [
    "from keras.utils import np_utils\n",
    "y_train = np_utils.to_categorical(y_train)\n",
    "y_test = np_utils.to_categorical(y_test)"
   ]
  },
  {
   "cell_type": "code",
   "execution_count": 29,
   "metadata": {},
   "outputs": [
    {
     "data": {
      "text/plain": [
       "(3248, 6)"
      ]
     },
     "execution_count": 29,
     "metadata": {},
     "output_type": "execute_result"
    }
   ],
   "source": [
    "y_train.shape"
   ]
  },
  {
   "cell_type": "markdown",
   "metadata": {},
   "source": [
    "## MODEL"
   ]
  },
  {
   "cell_type": "code",
   "execution_count": 30,
   "metadata": {},
   "outputs": [],
   "source": [
    "model = keras.Sequential()\n",
    "\n",
    "model.add(Conv1D(16, 5,padding='same',\n",
    "                 input_shape=(25,1)))\n",
    "model.add(Activation('relu'))\n",
    "model.add(Conv1D(32, 5,padding='same'))\n",
    "model.add(Activation('relu'))\n",
    "model.add(Dropout(0.1))\n",
    "model.add(Conv1D(64, 5,padding='same',))\n",
    "model.add(Activation('relu'))\n",
    "model.add(Conv1D(128, 5,padding='same'))\n",
    "model.add(Activation('relu'))\n",
    "\n",
    "model.add(MaxPooling1D(pool_size=(8)))\n",
    "\n",
    "model.add(Dense(128))\n",
    "model.add(Activation('relu'))\n",
    "model.add(Dropout(0.1))\n",
    "model.add(Dense(64))\n",
    "model.add(Activation('relu'))\n",
    "## unstacking rows of pixels in the image and lining them up\n",
    "model.add(keras.layers.Flatten(input_shape=(X.shape[1], X.shape[2])))\n",
    "## The second (and last) layer is a 10-node softmax layer that \n",
    "##    returns an array of 10 probability scores that sum to 1\n",
    "model.add(keras.layers.Dense(6, activation='softmax'))\n",
    "\n",
    "model.compile(optimizer='adam',\n",
    "              loss='categorical_crossentropy',\n",
    "              metrics=['accuracy'])"
   ]
  },
  {
   "cell_type": "code",
   "execution_count": 31,
   "metadata": {},
   "outputs": [
    {
     "name": "stdout",
     "output_type": "stream",
     "text": [
      "Model: \"sequential_1\"\n",
      "_________________________________________________________________\n",
      "Layer (type)                 Output Shape              Param #   \n",
      "=================================================================\n",
      "conv1d_1 (Conv1D)            (None, 25, 16)            96        \n",
      "_________________________________________________________________\n",
      "activation_1 (Activation)    (None, 25, 16)            0         \n",
      "_________________________________________________________________\n",
      "conv1d_2 (Conv1D)            (None, 25, 32)            2592      \n",
      "_________________________________________________________________\n",
      "activation_2 (Activation)    (None, 25, 32)            0         \n",
      "_________________________________________________________________\n",
      "dropout_1 (Dropout)          (None, 25, 32)            0         \n",
      "_________________________________________________________________\n",
      "conv1d_3 (Conv1D)            (None, 25, 64)            10304     \n",
      "_________________________________________________________________\n",
      "activation_3 (Activation)    (None, 25, 64)            0         \n",
      "_________________________________________________________________\n",
      "conv1d_4 (Conv1D)            (None, 25, 128)           41088     \n",
      "_________________________________________________________________\n",
      "activation_4 (Activation)    (None, 25, 128)           0         \n",
      "_________________________________________________________________\n",
      "max_pooling1d_1 (MaxPooling1 (None, 3, 128)            0         \n",
      "_________________________________________________________________\n",
      "dense_1 (Dense)              (None, 3, 128)            16512     \n",
      "_________________________________________________________________\n",
      "activation_5 (Activation)    (None, 3, 128)            0         \n",
      "_________________________________________________________________\n",
      "dropout_2 (Dropout)          (None, 3, 128)            0         \n",
      "_________________________________________________________________\n",
      "dense_2 (Dense)              (None, 3, 64)             8256      \n",
      "_________________________________________________________________\n",
      "activation_6 (Activation)    (None, 3, 64)             0         \n",
      "_________________________________________________________________\n",
      "flatten_1 (Flatten)          (None, 192)               0         \n",
      "_________________________________________________________________\n",
      "dense_3 (Dense)              (None, 6)                 1158      \n",
      "=================================================================\n",
      "Total params: 80,006\n",
      "Trainable params: 80,006\n",
      "Non-trainable params: 0\n",
      "_________________________________________________________________\n"
     ]
    }
   ],
   "source": [
    "model.summary()"
   ]
  },
  {
   "cell_type": "code",
   "execution_count": 32,
   "metadata": {},
   "outputs": [
    {
     "name": "stdout",
     "output_type": "stream",
     "text": [
      "Train on 3248 samples, validate on 813 samples\n",
      "Epoch 1/24\n",
      "3248/3248 [==============================] - 2s 489us/step - loss: 1.1064 - accuracy: 0.6053 - val_loss: 0.7348 - val_accuracy: 0.7405\n",
      "Epoch 2/24\n",
      "3248/3248 [==============================] - 1s 380us/step - loss: 0.5252 - accuracy: 0.7977 - val_loss: 0.4818 - val_accuracy: 0.8266\n",
      "Epoch 3/24\n",
      "3248/3248 [==============================] - 1s 454us/step - loss: 0.4023 - accuracy: 0.8393 - val_loss: 0.4109 - val_accuracy: 0.8561\n",
      "Epoch 4/24\n",
      "3248/3248 [==============================] - 1s 383us/step - loss: 0.3488 - accuracy: 0.8611 - val_loss: 0.3805 - val_accuracy: 0.8598\n",
      "Epoch 5/24\n",
      "3248/3248 [==============================] - 1s 392us/step - loss: 0.3081 - accuracy: 0.8713 - val_loss: 0.3924 - val_accuracy: 0.8426\n",
      "Epoch 6/24\n",
      "3248/3248 [==============================] - 1s 396us/step - loss: 0.2717 - accuracy: 0.8935 - val_loss: 0.4736 - val_accuracy: 0.8426\n",
      "Epoch 7/24\n",
      "3248/3248 [==============================] - 1s 452us/step - loss: 0.2391 - accuracy: 0.9129 - val_loss: 0.3410 - val_accuracy: 0.8635\n",
      "Epoch 8/24\n",
      "3248/3248 [==============================] - 1s 413us/step - loss: 0.2285 - accuracy: 0.9055 - val_loss: 0.3470 - val_accuracy: 0.8782\n",
      "Epoch 9/24\n",
      "3248/3248 [==============================] - 1s 404us/step - loss: 0.2212 - accuracy: 0.9123 - val_loss: 0.3594 - val_accuracy: 0.8499\n",
      "Epoch 10/24\n",
      "3248/3248 [==============================] - 1s 421us/step - loss: 0.1948 - accuracy: 0.9240 - val_loss: 0.3232 - val_accuracy: 0.8795\n",
      "Epoch 11/24\n",
      "3248/3248 [==============================] - 1s 404us/step - loss: 0.1727 - accuracy: 0.9332 - val_loss: 0.3213 - val_accuracy: 0.8782\n",
      "Epoch 12/24\n",
      "3248/3248 [==============================] - 1s 392us/step - loss: 0.1728 - accuracy: 0.9320 - val_loss: 0.3563 - val_accuracy: 0.8745\n",
      "Epoch 13/24\n",
      "3248/3248 [==============================] - 1s 400us/step - loss: 0.1444 - accuracy: 0.9406 - val_loss: 0.3917 - val_accuracy: 0.8622\n",
      "Epoch 14/24\n",
      "3248/3248 [==============================] - 1s 423us/step - loss: 0.1448 - accuracy: 0.9397 - val_loss: 0.3635 - val_accuracy: 0.8598\n",
      "Epoch 15/24\n",
      "3248/3248 [==============================] - 1s 391us/step - loss: 0.1355 - accuracy: 0.9504 - val_loss: 0.3778 - val_accuracy: 0.8659\n",
      "Epoch 16/24\n",
      "3248/3248 [==============================] - 1s 381us/step - loss: 0.1155 - accuracy: 0.9575 - val_loss: 0.3947 - val_accuracy: 0.8721\n",
      "Epoch 17/24\n",
      "3248/3248 [==============================] - 2s 465us/step - loss: 0.0970 - accuracy: 0.9621 - val_loss: 0.4315 - val_accuracy: 0.8881\n",
      "Epoch 18/24\n",
      "3248/3248 [==============================] - 2s 533us/step - loss: 0.1369 - accuracy: 0.9474 - val_loss: 0.4646 - val_accuracy: 0.8598\n",
      "Epoch 19/24\n",
      "3248/3248 [==============================] - 1s 399us/step - loss: 0.1130 - accuracy: 0.9609 - val_loss: 0.4146 - val_accuracy: 0.8696\n",
      "Epoch 20/24\n",
      "3248/3248 [==============================] - 1s 381us/step - loss: 0.0946 - accuracy: 0.9655 - val_loss: 0.3797 - val_accuracy: 0.8868\n",
      "Epoch 21/24\n",
      "3248/3248 [==============================] - 2s 555us/step - loss: 0.0893 - accuracy: 0.9677 - val_loss: 0.4097 - val_accuracy: 0.8819\n",
      "Epoch 22/24\n",
      "3248/3248 [==============================] - 1s 447us/step - loss: 0.0793 - accuracy: 0.9717 - val_loss: 0.4438 - val_accuracy: 0.8831\n",
      "Epoch 23/24\n",
      "3248/3248 [==============================] - 1s 409us/step - loss: 0.0840 - accuracy: 0.9698 - val_loss: 0.4377 - val_accuracy: 0.8905\n",
      "Epoch 24/24\n",
      "3248/3248 [==============================] - 1s 415us/step - loss: 0.0989 - accuracy: 0.9652 - val_loss: 0.4410 - val_accuracy: 0.8708\n"
     ]
    }
   ],
   "source": [
    "model.compile(optimizer='adam',\n",
    "              loss='categorical_crossentropy',\n",
    "              metrics=['accuracy'])\n",
    "history=model.fit(X_train, y_train, batch_size=16, epochs=24, validation_data=(X_test, y_test))"
   ]
  },
  {
   "cell_type": "code",
   "execution_count": 33,
   "metadata": {},
   "outputs": [
    {
     "data": {
      "image/png": "[encoded data removed]",
      "text/plain": [
       "<Figure size 432x288 with 1 Axes>"
      ]
     },
     "metadata": {
      "needs_background": "light"
     },
     "output_type": "display_data"
    }
   ],
   "source": [
    "plt.plot(history.history['loss'])\n",
    "plt.plot(history.history['val_loss'])\n",
    "plt.title('model loss')\n",
    "plt.ylabel('loss')\n",
    "plt.xlabel('epoch')\n",
    "plt.legend(['train', 'test'], loc='upper left')\n",
    "plt.show()"
   ]
  },
  {
   "cell_type": "code",
   "execution_count": 34,
   "metadata": {},
   "outputs": [
    {
     "name": "stdout",
     "output_type": "stream",
     "text": [
      "accuracy: 87.08%\n"
     ]
    }
   ],
   "source": [
    "score = model.evaluate(X_test, y_test, verbose=0)\n",
    "print(\"%s: %.2f%%\" % (model.metrics_names[1], score[1]*100))"
   ]
  },
  {
   "cell_type": "markdown",
   "metadata": {},
   "source": [
    "## PREDICTIONS"
   ]
  },
  {
   "cell_type": "code",
   "execution_count": 35,
   "metadata": {},
   "outputs": [
    {
     "name": "stdout",
     "output_type": "stream",
     "text": [
      "813/813 [==============================] - 0s 130us/step\n"
     ]
    }
   ],
   "source": [
    "preds = model.predict(X_test, \n",
    "                         batch_size=32, \n",
    "                         verbose=1)\n",
    "\n",
    "preds1=preds.argmax(axis=1)\n",
    "abc = preds1.astype(int).flatten()\n",
    "predictions = (encoder.inverse_transform((abc)))"
   ]
  },
  {
   "cell_type": "code",
   "execution_count": 36,
   "metadata": {},
   "outputs": [
    {
     "data": {
      "text/html": [
       "<div>\n",
       "<style scoped>\n",
       "    .dataframe tbody tr th:only-of-type {\n",
       "        vertical-align: middle;\n",
       "    }\n",
       "\n",
       "    .dataframe tbody tr th {\n",
       "        vertical-align: top;\n",
       "    }\n",
       "\n",
       "    .dataframe thead th {\n",
       "        text-align: right;\n",
       "    }\n",
       "</style>\n",
       "<table border=\"1\" class=\"dataframe\">\n",
       "  <thead>\n",
       "    <tr style=\"text-align: right;\">\n",
       "      <th></th>\n",
       "      <th>actualvalues</th>\n",
       "      <th>predictedvalues</th>\n",
       "    </tr>\n",
       "  </thead>\n",
       "  <tbody>\n",
       "    <tr>\n",
       "      <th>0</th>\n",
       "      <td>male_negative</td>\n",
       "      <td>male_negative</td>\n",
       "    </tr>\n",
       "    <tr>\n",
       "      <th>1</th>\n",
       "      <td>male_negative</td>\n",
       "      <td>male_positive</td>\n",
       "    </tr>\n",
       "    <tr>\n",
       "      <th>2</th>\n",
       "      <td>male_positive</td>\n",
       "      <td>male_positive</td>\n",
       "    </tr>\n",
       "    <tr>\n",
       "      <th>3</th>\n",
       "      <td>female_neutral</td>\n",
       "      <td>female_neutral</td>\n",
       "    </tr>\n",
       "    <tr>\n",
       "      <th>4</th>\n",
       "      <td>male_negative</td>\n",
       "      <td>male_negative</td>\n",
       "    </tr>\n",
       "  </tbody>\n",
       "</table>\n",
       "</div>"
      ],
      "text/plain": [
       "     actualvalues predictedvalues\n",
       "0   male_negative   male_negative\n",
       "1   male_negative   male_positive\n",
       "2   male_positive   male_positive\n",
       "3  female_neutral  female_neutral\n",
       "4   male_negative   male_negative"
      ]
     },
     "execution_count": 36,
     "metadata": {},
     "output_type": "execute_result"
    }
   ],
   "source": [
    "preddf = pd.DataFrame({'predictedvalues': predictions})\n",
    "actual=y_test.argmax(axis=1).astype(int).flatten()\n",
    "actualvalues = (encoder.inverse_transform((actual)))\n",
    "actualdf = pd.DataFrame({'actualvalues': actualvalues})\n",
    "finaldf = actualdf.join(preddf)\n",
    "finaldf.head()"
   ]
  },
  {
   "cell_type": "code",
   "execution_count": 37,
   "metadata": {},
   "outputs": [
    {
     "data": {
      "text/html": [
       "<div>\n",
       "<style scoped>\n",
       "    .dataframe tbody tr th:only-of-type {\n",
       "        vertical-align: middle;\n",
       "    }\n",
       "\n",
       "    .dataframe tbody tr th {\n",
       "        vertical-align: top;\n",
       "    }\n",
       "\n",
       "    .dataframe thead th {\n",
       "        text-align: right;\n",
       "    }\n",
       "</style>\n",
       "<table border=\"1\" class=\"dataframe\">\n",
       "  <thead>\n",
       "    <tr style=\"text-align: right;\">\n",
       "      <th></th>\n",
       "      <th>predictedvalues</th>\n",
       "    </tr>\n",
       "    <tr>\n",
       "      <th>actualvalues</th>\n",
       "      <th></th>\n",
       "    </tr>\n",
       "  </thead>\n",
       "  <tbody>\n",
       "    <tr>\n",
       "      <th>female_negative</th>\n",
       "      <td>397</td>\n",
       "    </tr>\n",
       "    <tr>\n",
       "      <th>female_neutral</th>\n",
       "      <td>109</td>\n",
       "    </tr>\n",
       "    <tr>\n",
       "      <th>female_positive</th>\n",
       "      <td>99</td>\n",
       "    </tr>\n",
       "    <tr>\n",
       "      <th>male_negative</th>\n",
       "      <td>124</td>\n",
       "    </tr>\n",
       "    <tr>\n",
       "      <th>male_neutral</th>\n",
       "      <td>53</td>\n",
       "    </tr>\n",
       "    <tr>\n",
       "      <th>male_positive</th>\n",
       "      <td>31</td>\n",
       "    </tr>\n",
       "  </tbody>\n",
       "</table>\n",
       "</div>"
      ],
      "text/plain": [
       "                 predictedvalues\n",
       "actualvalues                    \n",
       "female_negative              397\n",
       "female_neutral               109\n",
       "female_positive               99\n",
       "male_negative                124\n",
       "male_neutral                  53\n",
       "male_positive                 31"
      ]
     },
     "execution_count": 37,
     "metadata": {},
     "output_type": "execute_result"
    }
   ],
   "source": [
    "finaldf.groupby('actualvalues').count()"
   ]
  },
  {
   "cell_type": "code",
   "execution_count": 38,
   "metadata": {},
   "outputs": [
    {
     "data": {
      "text/html": [
       "<div>\n",
       "<style scoped>\n",
       "    .dataframe tbody tr th:only-of-type {\n",
       "        vertical-align: middle;\n",
       "    }\n",
       "\n",
       "    .dataframe tbody tr th {\n",
       "        vertical-align: top;\n",
       "    }\n",
       "\n",
       "    .dataframe thead th {\n",
       "        text-align: right;\n",
       "    }\n",
       "</style>\n",
       "<table border=\"1\" class=\"dataframe\">\n",
       "  <thead>\n",
       "    <tr style=\"text-align: right;\">\n",
       "      <th></th>\n",
       "      <th>actualvalues</th>\n",
       "    </tr>\n",
       "    <tr>\n",
       "      <th>predictedvalues</th>\n",
       "      <th></th>\n",
       "    </tr>\n",
       "  </thead>\n",
       "  <tbody>\n",
       "    <tr>\n",
       "      <th>female_negative</th>\n",
       "      <td>400</td>\n",
       "    </tr>\n",
       "    <tr>\n",
       "      <th>female_neutral</th>\n",
       "      <td>110</td>\n",
       "    </tr>\n",
       "    <tr>\n",
       "      <th>female_positive</th>\n",
       "      <td>93</td>\n",
       "    </tr>\n",
       "    <tr>\n",
       "      <th>male_negative</th>\n",
       "      <td>125</td>\n",
       "    </tr>\n",
       "    <tr>\n",
       "      <th>male_neutral</th>\n",
       "      <td>49</td>\n",
       "    </tr>\n",
       "    <tr>\n",
       "      <th>male_positive</th>\n",
       "      <td>36</td>\n",
       "    </tr>\n",
       "  </tbody>\n",
       "</table>\n",
       "</div>"
      ],
      "text/plain": [
       "                 actualvalues\n",
       "predictedvalues              \n",
       "female_negative           400\n",
       "female_neutral            110\n",
       "female_positive            93\n",
       "male_negative             125\n",
       "male_neutral               49\n",
       "male_positive              36"
      ]
     },
     "execution_count": 38,
     "metadata": {},
     "output_type": "execute_result"
    }
   ],
   "source": [
    "finaldf.groupby('predictedvalues').count()"
   ]
  },
  {
   "cell_type": "markdown",
   "metadata": {},
   "source": [
    "## PICKLE MODEL"
   ]
  },
  {
   "cell_type": "code",
   "execution_count": 40,
   "metadata": {},
   "outputs": [],
   "source": [
    "import pickle\n",
    "pickle.dump(model, open('pickles/model_emotionmf.p','wb'))\n",
    "pickle.dump(encoder, open('pickles/encoder_emotionmf.p','wb'))\n",
    "pickle.dump(scaler, open('pickles/scaler_emotionmf.p','wb'))"
   ]
  },
  {
   "cell_type": "code",
   "execution_count": 34,
   "metadata": {},
   "outputs": [],
   "source": [
    "# pickle_model = pickle.load(open('model.p','rb'))"
   ]
  },
  {
   "cell_type": "code",
   "execution_count": null,
   "metadata": {},
   "outputs": [],
   "source": []
  }
 ],
 "metadata": {
  "kernelspec": {
   "display_name": "Python 3",
   "language": "python",
   "name": "python3"
  },
  "language_info": {
   "codemirror_mode": {
    "name": "ipython",
    "version": 3
   },
   "file_extension": ".py",
   "mimetype": "text/x-python",
   "name": "python",
   "nbconvert_exporter": "python",
   "pygments_lexer": "ipython3",
   "version": "3.7.3"
  }
 },
 "nbformat": 4,
 "nbformat_minor": 2
}
