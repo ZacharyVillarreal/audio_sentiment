{
 "cells": [
  {
   "cell_type": "code",
   "execution_count": 1,
   "metadata": {},
   "outputs": [
    {
     "name": "stderr",
     "output_type": "stream",
     "text": [
      "Using TensorFlow backend.\n"
     ]
    }
   ],
   "source": [
    "import pandas as pd\n",
    "import numpy as np\n",
    "import os\n",
    "import matplotlib.pyplot as plt\n",
    "%matplotlib inline\n",
    "\n",
    "import librosa\n",
    "\n",
    "from sklearn.preprocessing import LabelEncoder, StandardScaler\n",
    "from sklearn.model_selection import train_test_split\n",
    "\n",
    "import keras\n",
    "from keras.models import Sequential\n",
    "from keras.layers import Conv1D, Conv2D, MaxPooling1D, Flatten, LSTM, Activation, Dropout, Dense"
   ]
  },
  {
   "cell_type": "markdown",
   "metadata": {},
   "source": [
    "## IMPORT DATA"
   ]
  },
  {
   "cell_type": "code",
   "execution_count": 2,
   "metadata": {},
   "outputs": [],
   "source": [
    "df = pd.read_csv('data/data.csv')"
   ]
  },
  {
   "cell_type": "code",
   "execution_count": 3,
   "metadata": {},
   "outputs": [
    {
     "data": {
      "text/html": [
       "<div>\n",
       "<style scoped>\n",
       "    .dataframe tbody tr th:only-of-type {\n",
       "        vertical-align: middle;\n",
       "    }\n",
       "\n",
       "    .dataframe tbody tr th {\n",
       "        vertical-align: top;\n",
       "    }\n",
       "\n",
       "    .dataframe thead th {\n",
       "        text-align: right;\n",
       "    }\n",
       "</style>\n",
       "<table border=\"1\" class=\"dataframe\">\n",
       "  <thead>\n",
       "    <tr style=\"text-align: right;\">\n",
       "      <th></th>\n",
       "      <th>chroma_stft</th>\n",
       "      <th>spectral_centroid</th>\n",
       "      <th>spectral_bandwidth</th>\n",
       "      <th>rolloff</th>\n",
       "      <th>zero_crossing_rate</th>\n",
       "      <th>mfcc0</th>\n",
       "      <th>mfcc1</th>\n",
       "      <th>mfcc2</th>\n",
       "      <th>mfcc3</th>\n",
       "      <th>mfcc4</th>\n",
       "      <th>...</th>\n",
       "      <th>mfcc11</th>\n",
       "      <th>mfcc12</th>\n",
       "      <th>mfcc13</th>\n",
       "      <th>mfcc14</th>\n",
       "      <th>mfcc15</th>\n",
       "      <th>mfcc16</th>\n",
       "      <th>mfcc17</th>\n",
       "      <th>mfcc18</th>\n",
       "      <th>mfcc19</th>\n",
       "      <th>emotion</th>\n",
       "    </tr>\n",
       "  </thead>\n",
       "  <tbody>\n",
       "    <tr>\n",
       "      <th>0</th>\n",
       "      <td>0.285073</td>\n",
       "      <td>1983.790938</td>\n",
       "      <td>2257.218445</td>\n",
       "      <td>3584.252930</td>\n",
       "      <td>0.075257</td>\n",
       "      <td>-482.625061</td>\n",
       "      <td>98.723747</td>\n",
       "      <td>10.763579</td>\n",
       "      <td>-15.247211</td>\n",
       "      <td>9.086503</td>\n",
       "      <td>...</td>\n",
       "      <td>-1.002849</td>\n",
       "      <td>-7.897387</td>\n",
       "      <td>4.955098</td>\n",
       "      <td>3.673250</td>\n",
       "      <td>4.729796</td>\n",
       "      <td>-2.967993</td>\n",
       "      <td>5.812353</td>\n",
       "      <td>-0.807726</td>\n",
       "      <td>-3.740592</td>\n",
       "      <td>neutral</td>\n",
       "    </tr>\n",
       "    <tr>\n",
       "      <th>1</th>\n",
       "      <td>0.317146</td>\n",
       "      <td>2761.827974</td>\n",
       "      <td>2097.267228</td>\n",
       "      <td>4453.485107</td>\n",
       "      <td>0.160061</td>\n",
       "      <td>-236.182678</td>\n",
       "      <td>57.486309</td>\n",
       "      <td>-10.906199</td>\n",
       "      <td>15.691256</td>\n",
       "      <td>-6.170797</td>\n",
       "      <td>...</td>\n",
       "      <td>7.572874</td>\n",
       "      <td>1.293544</td>\n",
       "      <td>0.161986</td>\n",
       "      <td>-6.448635</td>\n",
       "      <td>-6.156417</td>\n",
       "      <td>-0.231544</td>\n",
       "      <td>13.528853</td>\n",
       "      <td>4.967438</td>\n",
       "      <td>18.646177</td>\n",
       "      <td>fearful</td>\n",
       "    </tr>\n",
       "    <tr>\n",
       "      <th>2</th>\n",
       "      <td>0.278087</td>\n",
       "      <td>2275.676333</td>\n",
       "      <td>2305.452052</td>\n",
       "      <td>4625.024414</td>\n",
       "      <td>0.122916</td>\n",
       "      <td>-260.253021</td>\n",
       "      <td>81.079872</td>\n",
       "      <td>6.040711</td>\n",
       "      <td>1.711222</td>\n",
       "      <td>-39.751842</td>\n",
       "      <td>...</td>\n",
       "      <td>7.407228</td>\n",
       "      <td>-15.825860</td>\n",
       "      <td>8.155030</td>\n",
       "      <td>-5.742045</td>\n",
       "      <td>-7.586360</td>\n",
       "      <td>-5.758427</td>\n",
       "      <td>-1.636331</td>\n",
       "      <td>-10.757888</td>\n",
       "      <td>-1.511348</td>\n",
       "      <td>angry</td>\n",
       "    </tr>\n",
       "    <tr>\n",
       "      <th>3</th>\n",
       "      <td>0.266470</td>\n",
       "      <td>2388.422244</td>\n",
       "      <td>2099.641172</td>\n",
       "      <td>4718.381570</td>\n",
       "      <td>0.112948</td>\n",
       "      <td>-293.535797</td>\n",
       "      <td>52.546513</td>\n",
       "      <td>-40.444359</td>\n",
       "      <td>23.320959</td>\n",
       "      <td>-19.301693</td>\n",
       "      <td>...</td>\n",
       "      <td>8.436443</td>\n",
       "      <td>-16.272163</td>\n",
       "      <td>12.842004</td>\n",
       "      <td>-11.418798</td>\n",
       "      <td>-7.661440</td>\n",
       "      <td>-4.796383</td>\n",
       "      <td>-8.022415</td>\n",
       "      <td>-8.520125</td>\n",
       "      <td>-2.734798</td>\n",
       "      <td>happy</td>\n",
       "    </tr>\n",
       "    <tr>\n",
       "      <th>4</th>\n",
       "      <td>0.242408</td>\n",
       "      <td>1250.156767</td>\n",
       "      <td>2004.454675</td>\n",
       "      <td>2520.326843</td>\n",
       "      <td>0.026874</td>\n",
       "      <td>-413.931061</td>\n",
       "      <td>105.721146</td>\n",
       "      <td>31.009756</td>\n",
       "      <td>25.187531</td>\n",
       "      <td>-8.839246</td>\n",
       "      <td>...</td>\n",
       "      <td>-2.703896</td>\n",
       "      <td>-7.592486</td>\n",
       "      <td>6.028452</td>\n",
       "      <td>-16.085613</td>\n",
       "      <td>1.451131</td>\n",
       "      <td>-7.485082</td>\n",
       "      <td>-1.111561</td>\n",
       "      <td>-6.581056</td>\n",
       "      <td>-7.937854</td>\n",
       "      <td>sad</td>\n",
       "    </tr>\n",
       "  </tbody>\n",
       "</table>\n",
       "<p>5 rows × 26 columns</p>\n",
       "</div>"
      ],
      "text/plain": [
       "   chroma_stft  spectral_centroid  spectral_bandwidth      rolloff  \\\n",
       "0     0.285073        1983.790938         2257.218445  3584.252930   \n",
       "1     0.317146        2761.827974         2097.267228  4453.485107   \n",
       "2     0.278087        2275.676333         2305.452052  4625.024414   \n",
       "3     0.266470        2388.422244         2099.641172  4718.381570   \n",
       "4     0.242408        1250.156767         2004.454675  2520.326843   \n",
       "\n",
       "   zero_crossing_rate       mfcc0       mfcc1      mfcc2      mfcc3  \\\n",
       "0            0.075257 -482.625061   98.723747  10.763579 -15.247211   \n",
       "1            0.160061 -236.182678   57.486309 -10.906199  15.691256   \n",
       "2            0.122916 -260.253021   81.079872   6.040711   1.711222   \n",
       "3            0.112948 -293.535797   52.546513 -40.444359  23.320959   \n",
       "4            0.026874 -413.931061  105.721146  31.009756  25.187531   \n",
       "\n",
       "       mfcc4  ...    mfcc11     mfcc12     mfcc13     mfcc14    mfcc15  \\\n",
       "0   9.086503  ... -1.002849  -7.897387   4.955098   3.673250  4.729796   \n",
       "1  -6.170797  ...  7.572874   1.293544   0.161986  -6.448635 -6.156417   \n",
       "2 -39.751842  ...  7.407228 -15.825860   8.155030  -5.742045 -7.586360   \n",
       "3 -19.301693  ...  8.436443 -16.272163  12.842004 -11.418798 -7.661440   \n",
       "4  -8.839246  ... -2.703896  -7.592486   6.028452 -16.085613  1.451131   \n",
       "\n",
       "     mfcc16     mfcc17     mfcc18     mfcc19  emotion  \n",
       "0 -2.967993   5.812353  -0.807726  -3.740592  neutral  \n",
       "1 -0.231544  13.528853   4.967438  18.646177  fearful  \n",
       "2 -5.758427  -1.636331 -10.757888  -1.511348    angry  \n",
       "3 -4.796383  -8.022415  -8.520125  -2.734798    happy  \n",
       "4 -7.485082  -1.111561  -6.581056  -7.937854      sad  \n",
       "\n",
       "[5 rows x 26 columns]"
      ]
     },
     "execution_count": 3,
     "metadata": {},
     "output_type": "execute_result"
    }
   ],
   "source": [
    "df.head()"
   ]
  },
  {
   "cell_type": "code",
   "execution_count": 4,
   "metadata": {},
   "outputs": [],
   "source": [
    "from sklearn.utils import shuffle\n",
    "df = shuffle(df)"
   ]
  },
  {
   "cell_type": "markdown",
   "metadata": {},
   "source": [
    "## CREATE X AND Y"
   ]
  },
  {
   "cell_type": "code",
   "execution_count": 5,
   "metadata": {},
   "outputs": [],
   "source": [
    "emotion = df['emotion']\n",
    "encoder = LabelEncoder()\n",
    "y = encoder.fit_transform(emotion)"
   ]
  },
  {
   "cell_type": "code",
   "execution_count": 6,
   "metadata": {},
   "outputs": [
    {
     "data": {
      "text/plain": [
       "array(['angry', 'disgust', 'fearful', 'happy', 'neutral', 'sad',\n",
       "       'surprised'], dtype=object)"
      ]
     },
     "execution_count": 6,
     "metadata": {},
     "output_type": "execute_result"
    }
   ],
   "source": [
    "encoder.inverse_transform(np.unique(y))"
   ]
  },
  {
   "cell_type": "code",
   "execution_count": 7,
   "metadata": {},
   "outputs": [
    {
     "data": {
      "text/plain": [
       "array([0, 1, 2, 3, 4, 5, 6])"
      ]
     },
     "execution_count": 7,
     "metadata": {},
     "output_type": "execute_result"
    }
   ],
   "source": [
    "np.unique(y)"
   ]
  },
  {
   "cell_type": "code",
   "execution_count": 8,
   "metadata": {},
   "outputs": [],
   "source": [
    "scaler = StandardScaler()\n",
    "X = scaler.fit(np.array(df.iloc[:, :-1], dtype = float))\n",
    "X = scaler.transform(np.array(df.iloc[:, :-1], dtype = float))\n",
    "X = X.reshape(X.shape[0], X.shape[1],1)"
   ]
  },
  {
   "cell_type": "code",
   "execution_count": 9,
   "metadata": {},
   "outputs": [
    {
     "data": {
      "text/plain": [
       "(4712, 25, 1)"
      ]
     },
     "execution_count": 9,
     "metadata": {},
     "output_type": "execute_result"
    }
   ],
   "source": [
    "X.shape"
   ]
  },
  {
   "cell_type": "markdown",
   "metadata": {},
   "source": [
    "## TRAIN_TEST_SPLIT"
   ]
  },
  {
   "cell_type": "code",
   "execution_count": 10,
   "metadata": {},
   "outputs": [],
   "source": [
    "X_train, X_test, y_train, y_test = train_test_split(X, y, test_size=0.2)"
   ]
  },
  {
   "cell_type": "code",
   "execution_count": 11,
   "metadata": {},
   "outputs": [],
   "source": [
    "from keras.utils import np_utils\n",
    "y_train = np_utils.to_categorical(y_train)\n",
    "y_test = np_utils.to_categorical(y_test)"
   ]
  },
  {
   "cell_type": "code",
   "execution_count": 12,
   "metadata": {},
   "outputs": [
    {
     "data": {
      "text/plain": [
       "(3769, 7)"
      ]
     },
     "execution_count": 12,
     "metadata": {},
     "output_type": "execute_result"
    }
   ],
   "source": [
    "y_train.shape"
   ]
  },
  {
   "cell_type": "markdown",
   "metadata": {},
   "source": [
    "## MODEL"
   ]
  },
  {
   "cell_type": "code",
   "execution_count": 13,
   "metadata": {},
   "outputs": [],
   "source": [
    "model = keras.Sequential()\n",
    "\n",
    "model.add(Conv1D(16, 5,padding='same',\n",
    "                 input_shape=(25,1)))\n",
    "model.add(Activation('relu'))\n",
    "model.add(Conv1D(32, 5,padding='same'))\n",
    "model.add(Activation('relu'))\n",
    "model.add(Dropout(0.1))\n",
    "model.add(Conv1D(64, 5,padding='same',))\n",
    "model.add(Activation('relu'))\n",
    "model.add(Conv1D(128, 5,padding='same'))\n",
    "model.add(Activation('relu'))\n",
    "\n",
    "model.add(MaxPooling1D(pool_size=(8)))\n",
    "\n",
    "model.add(Dense(128))\n",
    "model.add(Activation('relu'))\n",
    "model.add(Dropout(0.1))\n",
    "model.add(Dense(64))\n",
    "model.add(Activation('relu'))\n",
    "## unstacking rows of pixels in the image and lining them up\n",
    "model.add(keras.layers.Flatten(input_shape=(X.shape[1], X.shape[2])))\n",
    "## The second (and last) layer is a 10-node softmax layer that \n",
    "##    returns an array of 10 probability scores that sum to 1\n",
    "model.add(keras.layers.Dense(7, activation='softmax'))\n",
    "\n",
    "model.compile(optimizer='adam',\n",
    "              loss='categorical_crossentropy',\n",
    "              metrics=['accuracy'])"
   ]
  },
  {
   "cell_type": "code",
   "execution_count": 14,
   "metadata": {},
   "outputs": [
    {
     "name": "stdout",
     "output_type": "stream",
     "text": [
      "Model: \"sequential_1\"\n",
      "_________________________________________________________________\n",
      "Layer (type)                 Output Shape              Param #   \n",
      "=================================================================\n",
      "conv1d_1 (Conv1D)            (None, 25, 16)            96        \n",
      "_________________________________________________________________\n",
      "activation_1 (Activation)    (None, 25, 16)            0         \n",
      "_________________________________________________________________\n",
      "conv1d_2 (Conv1D)            (None, 25, 32)            2592      \n",
      "_________________________________________________________________\n",
      "activation_2 (Activation)    (None, 25, 32)            0         \n",
      "_________________________________________________________________\n",
      "dropout_1 (Dropout)          (None, 25, 32)            0         \n",
      "_________________________________________________________________\n",
      "conv1d_3 (Conv1D)            (None, 25, 64)            10304     \n",
      "_________________________________________________________________\n",
      "activation_3 (Activation)    (None, 25, 64)            0         \n",
      "_________________________________________________________________\n",
      "conv1d_4 (Conv1D)            (None, 25, 128)           41088     \n",
      "_________________________________________________________________\n",
      "activation_4 (Activation)    (None, 25, 128)           0         \n",
      "_________________________________________________________________\n",
      "max_pooling1d_1 (MaxPooling1 (None, 3, 128)            0         \n",
      "_________________________________________________________________\n",
      "dense_1 (Dense)              (None, 3, 128)            16512     \n",
      "_________________________________________________________________\n",
      "activation_5 (Activation)    (None, 3, 128)            0         \n",
      "_________________________________________________________________\n",
      "dropout_2 (Dropout)          (None, 3, 128)            0         \n",
      "_________________________________________________________________\n",
      "dense_2 (Dense)              (None, 3, 64)             8256      \n",
      "_________________________________________________________________\n",
      "activation_6 (Activation)    (None, 3, 64)             0         \n",
      "_________________________________________________________________\n",
      "flatten_1 (Flatten)          (None, 192)               0         \n",
      "_________________________________________________________________\n",
      "dense_3 (Dense)              (None, 7)                 1351      \n",
      "=================================================================\n",
      "Total params: 80,199\n",
      "Trainable params: 80,199\n",
      "Non-trainable params: 0\n",
      "_________________________________________________________________\n"
     ]
    }
   ],
   "source": [
    "model.summary()"
   ]
  },
  {
   "cell_type": "code",
   "execution_count": 15,
   "metadata": {},
   "outputs": [
    {
     "name": "stdout",
     "output_type": "stream",
     "text": [
      "Train on 3769 samples, validate on 943 samples\n",
      "Epoch 1/19\n",
      "3769/3769 [==============================] - 3s 784us/step - loss: 1.4415 - accuracy: 0.4553 - val_loss: 1.0054 - val_accuracy: 0.6543\n",
      "Epoch 2/19\n",
      "3769/3769 [==============================] - 2s 661us/step - loss: 0.9310 - accuracy: 0.6691 - val_loss: 0.8309 - val_accuracy: 0.7105\n",
      "Epoch 3/19\n",
      "3769/3769 [==============================] - 3s 734us/step - loss: 0.7507 - accuracy: 0.7286 - val_loss: 0.7196 - val_accuracy: 0.7391\n",
      "Epoch 4/19\n",
      "3769/3769 [==============================] - 3s 694us/step - loss: 0.6378 - accuracy: 0.7641 - val_loss: 0.7197 - val_accuracy: 0.7476\n",
      "Epoch 5/19\n",
      "3769/3769 [==============================] - 3s 713us/step - loss: 0.5826 - accuracy: 0.7819 - val_loss: 0.6482 - val_accuracy: 0.7741\n",
      "Epoch 6/19\n",
      "3769/3769 [==============================] - 3s 694us/step - loss: 0.5251 - accuracy: 0.8034 - val_loss: 0.6684 - val_accuracy: 0.7752\n",
      "Epoch 7/19\n",
      "3769/3769 [==============================] - 3s 682us/step - loss: 0.4774 - accuracy: 0.8236 - val_loss: 0.6647 - val_accuracy: 0.7826\n",
      "Epoch 8/19\n",
      "3769/3769 [==============================] - 3s 676us/step - loss: 0.4234 - accuracy: 0.8387 - val_loss: 0.6026 - val_accuracy: 0.7922\n",
      "Epoch 9/19\n",
      "3769/3769 [==============================] - 3s 682us/step - loss: 0.3965 - accuracy: 0.8514 - val_loss: 0.5708 - val_accuracy: 0.8038\n",
      "Epoch 10/19\n",
      "3769/3769 [==============================] - 3s 678us/step - loss: 0.3565 - accuracy: 0.8705 - val_loss: 0.6202 - val_accuracy: 0.7922\n",
      "Epoch 11/19\n",
      "3769/3769 [==============================] - 3s 697us/step - loss: 0.3217 - accuracy: 0.8825 - val_loss: 0.5844 - val_accuracy: 0.7996\n",
      "Epoch 12/19\n",
      "3769/3769 [==============================] - 3s 716us/step - loss: 0.3085 - accuracy: 0.8923 - val_loss: 0.5797 - val_accuracy: 0.8091\n",
      "Epoch 13/19\n",
      "3769/3769 [==============================] - 3s 723us/step - loss: 0.2783 - accuracy: 0.8955 - val_loss: 0.7205 - val_accuracy: 0.7996\n",
      "Epoch 14/19\n",
      "3769/3769 [==============================] - 3s 675us/step - loss: 0.2732 - accuracy: 0.9008 - val_loss: 0.6481 - val_accuracy: 0.7911\n",
      "Epoch 15/19\n",
      "3769/3769 [==============================] - 2s 657us/step - loss: 0.2438 - accuracy: 0.9138 - val_loss: 0.6841 - val_accuracy: 0.8165\n",
      "Epoch 16/19\n",
      "3769/3769 [==============================] - 3s 807us/step - loss: 0.2497 - accuracy: 0.9127 - val_loss: 0.6897 - val_accuracy: 0.7932\n",
      "Epoch 17/19\n",
      "3769/3769 [==============================] - 3s 816us/step - loss: 0.2131 - accuracy: 0.9249 - val_loss: 0.6052 - val_accuracy: 0.8165\n",
      "Epoch 18/19\n",
      "3769/3769 [==============================] - 4s 1ms/step - loss: 0.2121 - accuracy: 0.9289 - val_loss: 0.6399 - val_accuracy: 0.8187\n",
      "Epoch 19/19\n",
      "3769/3769 [==============================] - 3s 759us/step - loss: 0.2030 - accuracy: 0.9302 - val_loss: 0.6928 - val_accuracy: 0.8144\n"
     ]
    }
   ],
   "source": [
    "model.compile(optimizer='adam',\n",
    "              loss='categorical_crossentropy',\n",
    "              metrics=['accuracy'])\n",
    "history=model.fit(X_train, y_train, batch_size=5, epochs=19, validation_data=(X_test, y_test))"
   ]
  },
  {
   "cell_type": "code",
   "execution_count": 16,
   "metadata": {},
   "outputs": [
    {
     "data": {
      "image/png": "[encoded data removed]",
      "text/plain": [
       "<Figure size 432x288 with 1 Axes>"
      ]
     },
     "metadata": {
      "needs_background": "light"
     },
     "output_type": "display_data"
    }
   ],
   "source": [
    "plt.plot(history.history['loss'])\n",
    "plt.plot(history.history['val_loss'])\n",
    "plt.title('model loss')\n",
    "plt.ylabel('loss')\n",
    "plt.xlabel('epoch')\n",
    "plt.legend(['train', 'test'], loc='upper left')\n",
    "plt.show()"
   ]
  },
  {
   "cell_type": "code",
   "execution_count": 17,
   "metadata": {},
   "outputs": [
    {
     "name": "stdout",
     "output_type": "stream",
     "text": [
      "accuracy: 81.44%\n"
     ]
    }
   ],
   "source": [
    "score = model.evaluate(X_test, y_test, verbose=0)\n",
    "print(\"%s: %.2f%%\" % (model.metrics_names[1], score[1]*100))"
   ]
  },
  {
   "cell_type": "markdown",
   "metadata": {},
   "source": [
    "## PREDICTIONS"
   ]
  },
  {
   "cell_type": "code",
   "execution_count": 18,
   "metadata": {},
   "outputs": [
    {
     "name": "stdout",
     "output_type": "stream",
     "text": [
      "943/943 [==============================] - 0s 215us/step\n"
     ]
    },
    {
     "data": {
      "text/html": [
       "<div>\n",
       "<style scoped>\n",
       "    .dataframe tbody tr th:only-of-type {\n",
       "        vertical-align: middle;\n",
       "    }\n",
       "\n",
       "    .dataframe tbody tr th {\n",
       "        vertical-align: top;\n",
       "    }\n",
       "\n",
       "    .dataframe thead th {\n",
       "        text-align: right;\n",
       "    }\n",
       "</style>\n",
       "<table border=\"1\" class=\"dataframe\">\n",
       "  <thead>\n",
       "    <tr style=\"text-align: right;\">\n",
       "      <th></th>\n",
       "      <th>actualvalues</th>\n",
       "      <th>predictedvalues</th>\n",
       "    </tr>\n",
       "  </thead>\n",
       "  <tbody>\n",
       "    <tr>\n",
       "      <th>0</th>\n",
       "      <td>angry</td>\n",
       "      <td>angry</td>\n",
       "    </tr>\n",
       "    <tr>\n",
       "      <th>1</th>\n",
       "      <td>fearful</td>\n",
       "      <td>fearful</td>\n",
       "    </tr>\n",
       "    <tr>\n",
       "      <th>2</th>\n",
       "      <td>fearful</td>\n",
       "      <td>fearful</td>\n",
       "    </tr>\n",
       "    <tr>\n",
       "      <th>3</th>\n",
       "      <td>disgust</td>\n",
       "      <td>disgust</td>\n",
       "    </tr>\n",
       "    <tr>\n",
       "      <th>4</th>\n",
       "      <td>surprised</td>\n",
       "      <td>neutral</td>\n",
       "    </tr>\n",
       "  </tbody>\n",
       "</table>\n",
       "</div>"
      ],
      "text/plain": [
       "  actualvalues predictedvalues\n",
       "0        angry           angry\n",
       "1      fearful         fearful\n",
       "2      fearful         fearful\n",
       "3      disgust         disgust\n",
       "4    surprised         neutral"
      ]
     },
     "execution_count": 18,
     "metadata": {},
     "output_type": "execute_result"
    }
   ],
   "source": [
    "preds = model.predict(X_test, \n",
    "                         batch_size=5, \n",
    "                         verbose=1)\n",
    "\n",
    "preds1=preds.argmax(axis=1)\n",
    "abc = preds1.astype(int).flatten()\n",
    "predictions = (encoder.inverse_transform((abc)))\n",
    "\n",
    "preddf = pd.DataFrame({'predictedvalues': predictions})\n",
    "actual=y_test.argmax(axis=1).astype(int).flatten()\n",
    "actualvalues = (encoder.inverse_transform((actual)))\n",
    "actualdf = pd.DataFrame({'actualvalues': actualvalues})\n",
    "finaldf = actualdf.join(preddf)\n",
    "finaldf.head()"
   ]
  },
  {
   "cell_type": "code",
   "execution_count": null,
   "metadata": {},
   "outputs": [],
   "source": []
  },
  {
   "cell_type": "code",
   "execution_count": null,
   "metadata": {},
   "outputs": [],
   "source": []
  },
  {
   "cell_type": "code",
   "execution_count": 19,
   "metadata": {},
   "outputs": [
    {
     "data": {
      "text/html": [
       "<div>\n",
       "<style scoped>\n",
       "    .dataframe tbody tr th:only-of-type {\n",
       "        vertical-align: middle;\n",
       "    }\n",
       "\n",
       "    .dataframe tbody tr th {\n",
       "        vertical-align: top;\n",
       "    }\n",
       "\n",
       "    .dataframe thead th {\n",
       "        text-align: right;\n",
       "    }\n",
       "</style>\n",
       "<table border=\"1\" class=\"dataframe\">\n",
       "  <thead>\n",
       "    <tr style=\"text-align: right;\">\n",
       "      <th></th>\n",
       "      <th>predictedvalues</th>\n",
       "    </tr>\n",
       "    <tr>\n",
       "      <th>actualvalues</th>\n",
       "      <th></th>\n",
       "    </tr>\n",
       "  </thead>\n",
       "  <tbody>\n",
       "    <tr>\n",
       "      <th>angry</th>\n",
       "      <td>118</td>\n",
       "    </tr>\n",
       "    <tr>\n",
       "      <th>disgust</th>\n",
       "      <td>137</td>\n",
       "    </tr>\n",
       "    <tr>\n",
       "      <th>fearful</th>\n",
       "      <td>130</td>\n",
       "    </tr>\n",
       "    <tr>\n",
       "      <th>happy</th>\n",
       "      <td>151</td>\n",
       "    </tr>\n",
       "    <tr>\n",
       "      <th>neutral</th>\n",
       "      <td>151</td>\n",
       "    </tr>\n",
       "    <tr>\n",
       "      <th>sad</th>\n",
       "      <td>124</td>\n",
       "    </tr>\n",
       "    <tr>\n",
       "      <th>surprised</th>\n",
       "      <td>132</td>\n",
       "    </tr>\n",
       "  </tbody>\n",
       "</table>\n",
       "</div>"
      ],
      "text/plain": [
       "              predictedvalues\n",
       "actualvalues                 \n",
       "angry                     118\n",
       "disgust                   137\n",
       "fearful                   130\n",
       "happy                     151\n",
       "neutral                   151\n",
       "sad                       124\n",
       "surprised                 132"
      ]
     },
     "execution_count": 19,
     "metadata": {},
     "output_type": "execute_result"
    }
   ],
   "source": [
    "finaldf.groupby('actualvalues').count()"
   ]
  },
  {
   "cell_type": "code",
   "execution_count": 20,
   "metadata": {},
   "outputs": [
    {
     "data": {
      "text/html": [
       "<div>\n",
       "<style scoped>\n",
       "    .dataframe tbody tr th:only-of-type {\n",
       "        vertical-align: middle;\n",
       "    }\n",
       "\n",
       "    .dataframe tbody tr th {\n",
       "        vertical-align: top;\n",
       "    }\n",
       "\n",
       "    .dataframe thead th {\n",
       "        text-align: right;\n",
       "    }\n",
       "</style>\n",
       "<table border=\"1\" class=\"dataframe\">\n",
       "  <thead>\n",
       "    <tr style=\"text-align: right;\">\n",
       "      <th></th>\n",
       "      <th>actualvalues</th>\n",
       "    </tr>\n",
       "    <tr>\n",
       "      <th>predictedvalues</th>\n",
       "      <th></th>\n",
       "    </tr>\n",
       "  </thead>\n",
       "  <tbody>\n",
       "    <tr>\n",
       "      <th>angry</th>\n",
       "      <td>106</td>\n",
       "    </tr>\n",
       "    <tr>\n",
       "      <th>disgust</th>\n",
       "      <td>143</td>\n",
       "    </tr>\n",
       "    <tr>\n",
       "      <th>fearful</th>\n",
       "      <td>136</td>\n",
       "    </tr>\n",
       "    <tr>\n",
       "      <th>happy</th>\n",
       "      <td>181</td>\n",
       "    </tr>\n",
       "    <tr>\n",
       "      <th>neutral</th>\n",
       "      <td>156</td>\n",
       "    </tr>\n",
       "    <tr>\n",
       "      <th>sad</th>\n",
       "      <td>116</td>\n",
       "    </tr>\n",
       "    <tr>\n",
       "      <th>surprised</th>\n",
       "      <td>105</td>\n",
       "    </tr>\n",
       "  </tbody>\n",
       "</table>\n",
       "</div>"
      ],
      "text/plain": [
       "                 actualvalues\n",
       "predictedvalues              \n",
       "angry                     106\n",
       "disgust                   143\n",
       "fearful                   136\n",
       "happy                     181\n",
       "neutral                   156\n",
       "sad                       116\n",
       "surprised                 105"
      ]
     },
     "execution_count": 20,
     "metadata": {},
     "output_type": "execute_result"
    }
   ],
   "source": [
    "finaldf.groupby('predictedvalues').count()"
   ]
  },
  {
   "cell_type": "markdown",
   "metadata": {},
   "source": [
    "## PICKLE MODEL"
   ]
  },
  {
   "cell_type": "code",
   "execution_count": 21,
   "metadata": {},
   "outputs": [],
   "source": [
    "import pickle\n",
    "\n",
    "pickle.dump(model, open('pickles/model.p','wb'))\n",
    "pickle.dump(encoder, open('pickles/encoder.p','wb'))\n",
    "pickle.dump(scaler, open('pickles/scaler.p','wb'))"
   ]
  },
  {
   "cell_type": "code",
   "execution_count": null,
   "metadata": {},
   "outputs": [],
   "source": []
  },
  {
   "cell_type": "code",
   "execution_count": null,
   "metadata": {},
   "outputs": [],
   "source": []
  },
  {
   "cell_type": "code",
   "execution_count": null,
   "metadata": {},
   "outputs": [],
   "source": []
  }
 ],
 "metadata": {
  "kernelspec": {
   "display_name": "Python 3",
   "language": "python",
   "name": "python3"
  },
  "language_info": {
   "codemirror_mode": {
    "name": "ipython",
    "version": 3
   },
   "file_extension": ".py",
   "mimetype": "text/x-python",
   "name": "python",
   "nbconvert_exporter": "python",
   "pygments_lexer": "ipython3",
   "version": "3.7.3"
  }
 },
 "nbformat": 4,
 "nbformat_minor": 2
}
