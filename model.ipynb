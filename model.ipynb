{
 "cells": [
  {
   "cell_type": "code",
   "execution_count": 25,
   "metadata": {},
   "outputs": [],
   "source": [
    "import pandas as pd\n",
    "import numpy as np\n",
    "import os\n",
    "import matplotlib.pyplot as plt\n",
    "%matplotlib inline\n",
    "\n",
    "import librosa\n",
    "\n",
    "from sklearn.preprocessing import LabelEncoder, StandardScaler\n",
    "from sklearn.model_selection import train_test_split\n",
    "\n",
    "import keras\n",
    "from keras.models import Sequential\n",
    "from keras.layers import Conv1D, Conv2D, MaxPooling1D, Flatten, LSTM, Activation, Dropout, Dense"
   ]
  },
  {
   "cell_type": "code",
   "execution_count": 2,
   "metadata": {},
   "outputs": [],
   "source": [
    "# from src.feature_extraction import feature_extraction\n",
    "# df = feature_extraction()\n",
    "df = pd.read_csv('data/data.csv')"
   ]
  },
  {
   "cell_type": "code",
   "execution_count": 3,
   "metadata": {},
   "outputs": [],
   "source": [
    "from src.clean_data import clean_file\n",
    "df = clean_file(df).drop(columns = 'Unnamed: 0')\n",
    "#df.to_csv('data/data.csv')"
   ]
  },
  {
   "cell_type": "code",
   "execution_count": 8,
   "metadata": {},
   "outputs": [
    {
     "data": {
      "text/html": [
       "<div>\n",
       "<style scoped>\n",
       "    .dataframe tbody tr th:only-of-type {\n",
       "        vertical-align: middle;\n",
       "    }\n",
       "\n",
       "    .dataframe tbody tr th {\n",
       "        vertical-align: top;\n",
       "    }\n",
       "\n",
       "    .dataframe thead th {\n",
       "        text-align: right;\n",
       "    }\n",
       "</style>\n",
       "<table border=\"1\" class=\"dataframe\">\n",
       "  <thead>\n",
       "    <tr style=\"text-align: right;\">\n",
       "      <th></th>\n",
       "      <th>chroma_stft</th>\n",
       "      <th>spectral_centroid</th>\n",
       "      <th>spectral_bandwidth</th>\n",
       "      <th>rolloff</th>\n",
       "      <th>zero_crossing_rate</th>\n",
       "      <th>mfcc0</th>\n",
       "      <th>mfcc1</th>\n",
       "      <th>mfcc2</th>\n",
       "      <th>mfcc3</th>\n",
       "      <th>mfcc4</th>\n",
       "      <th>...</th>\n",
       "      <th>mfcc11</th>\n",
       "      <th>mfcc12</th>\n",
       "      <th>mfcc13</th>\n",
       "      <th>mfcc14</th>\n",
       "      <th>mfcc15</th>\n",
       "      <th>mfcc16</th>\n",
       "      <th>mfcc17</th>\n",
       "      <th>mfcc18</th>\n",
       "      <th>mfcc19</th>\n",
       "      <th>emotion</th>\n",
       "    </tr>\n",
       "  </thead>\n",
       "  <tbody>\n",
       "    <tr>\n",
       "      <th>0</th>\n",
       "      <td>0.560788</td>\n",
       "      <td>2175.452134</td>\n",
       "      <td>2643.753126</td>\n",
       "      <td>5033.551870</td>\n",
       "      <td>0.120046</td>\n",
       "      <td>-647.833984</td>\n",
       "      <td>73.953712</td>\n",
       "      <td>2.432933</td>\n",
       "      <td>18.513586</td>\n",
       "      <td>17.144714</td>\n",
       "      <td>...</td>\n",
       "      <td>7.169649</td>\n",
       "      <td>1.848053</td>\n",
       "      <td>1.824471</td>\n",
       "      <td>2.604047</td>\n",
       "      <td>0.179370</td>\n",
       "      <td>1.365900</td>\n",
       "      <td>-1.071097</td>\n",
       "      <td>2.271643</td>\n",
       "      <td>1.772467</td>\n",
       "      <td>4</td>\n",
       "    </tr>\n",
       "    <tr>\n",
       "      <th>1</th>\n",
       "      <td>0.477528</td>\n",
       "      <td>2564.985375</td>\n",
       "      <td>2417.364883</td>\n",
       "      <td>4962.326660</td>\n",
       "      <td>0.204620</td>\n",
       "      <td>-621.006470</td>\n",
       "      <td>79.576233</td>\n",
       "      <td>-0.761120</td>\n",
       "      <td>17.735834</td>\n",
       "      <td>7.998703</td>\n",
       "      <td>...</td>\n",
       "      <td>6.117692</td>\n",
       "      <td>-4.211919</td>\n",
       "      <td>1.206020</td>\n",
       "      <td>2.806384</td>\n",
       "      <td>-0.245747</td>\n",
       "      <td>-1.002717</td>\n",
       "      <td>-1.422059</td>\n",
       "      <td>2.155927</td>\n",
       "      <td>0.731970</td>\n",
       "      <td>2</td>\n",
       "    </tr>\n",
       "    <tr>\n",
       "      <th>2</th>\n",
       "      <td>0.518734</td>\n",
       "      <td>2485.831877</td>\n",
       "      <td>2439.444660</td>\n",
       "      <td>5112.148062</td>\n",
       "      <td>0.228850</td>\n",
       "      <td>-615.796387</td>\n",
       "      <td>76.241829</td>\n",
       "      <td>-4.434103</td>\n",
       "      <td>12.975468</td>\n",
       "      <td>10.279062</td>\n",
       "      <td>...</td>\n",
       "      <td>0.187123</td>\n",
       "      <td>-1.953549</td>\n",
       "      <td>1.195269</td>\n",
       "      <td>-0.740985</td>\n",
       "      <td>0.539231</td>\n",
       "      <td>0.242258</td>\n",
       "      <td>-2.490123</td>\n",
       "      <td>2.111624</td>\n",
       "      <td>2.165533</td>\n",
       "      <td>1</td>\n",
       "    </tr>\n",
       "    <tr>\n",
       "      <th>3</th>\n",
       "      <td>0.465520</td>\n",
       "      <td>2379.847442</td>\n",
       "      <td>2526.826825</td>\n",
       "      <td>5007.380747</td>\n",
       "      <td>0.182659</td>\n",
       "      <td>-591.418762</td>\n",
       "      <td>74.321846</td>\n",
       "      <td>-3.563674</td>\n",
       "      <td>16.381424</td>\n",
       "      <td>12.795290</td>\n",
       "      <td>...</td>\n",
       "      <td>0.173293</td>\n",
       "      <td>-1.589008</td>\n",
       "      <td>-1.135694</td>\n",
       "      <td>-0.693458</td>\n",
       "      <td>0.005279</td>\n",
       "      <td>-1.524946</td>\n",
       "      <td>-3.134480</td>\n",
       "      <td>-0.098739</td>\n",
       "      <td>0.932513</td>\n",
       "      <td>4</td>\n",
       "    </tr>\n",
       "    <tr>\n",
       "      <th>4</th>\n",
       "      <td>0.483472</td>\n",
       "      <td>2845.220321</td>\n",
       "      <td>2587.824520</td>\n",
       "      <td>5583.145470</td>\n",
       "      <td>0.195898</td>\n",
       "      <td>-391.396332</td>\n",
       "      <td>41.262829</td>\n",
       "      <td>-12.060490</td>\n",
       "      <td>7.562790</td>\n",
       "      <td>1.676682</td>\n",
       "      <td>...</td>\n",
       "      <td>-0.057663</td>\n",
       "      <td>-3.733739</td>\n",
       "      <td>-6.457394</td>\n",
       "      <td>-4.281969</td>\n",
       "      <td>-3.244542</td>\n",
       "      <td>-6.811999</td>\n",
       "      <td>-0.880189</td>\n",
       "      <td>-2.193330</td>\n",
       "      <td>1.708981</td>\n",
       "      <td>5</td>\n",
       "    </tr>\n",
       "  </tbody>\n",
       "</table>\n",
       "<p>5 rows × 26 columns</p>\n",
       "</div>"
      ],
      "text/plain": [
       "   chroma_stft  spectral_centroid  spectral_bandwidth      rolloff  \\\n",
       "0     0.560788        2175.452134         2643.753126  5033.551870   \n",
       "1     0.477528        2564.985375         2417.364883  4962.326660   \n",
       "2     0.518734        2485.831877         2439.444660  5112.148062   \n",
       "3     0.465520        2379.847442         2526.826825  5007.380747   \n",
       "4     0.483472        2845.220321         2587.824520  5583.145470   \n",
       "\n",
       "   zero_crossing_rate       mfcc0      mfcc1      mfcc2      mfcc3      mfcc4  \\\n",
       "0            0.120046 -647.833984  73.953712   2.432933  18.513586  17.144714   \n",
       "1            0.204620 -621.006470  79.576233  -0.761120  17.735834   7.998703   \n",
       "2            0.228850 -615.796387  76.241829  -4.434103  12.975468  10.279062   \n",
       "3            0.182659 -591.418762  74.321846  -3.563674  16.381424  12.795290   \n",
       "4            0.195898 -391.396332  41.262829 -12.060490   7.562790   1.676682   \n",
       "\n",
       "   ...    mfcc11    mfcc12    mfcc13    mfcc14    mfcc15    mfcc16    mfcc17  \\\n",
       "0  ...  7.169649  1.848053  1.824471  2.604047  0.179370  1.365900 -1.071097   \n",
       "1  ...  6.117692 -4.211919  1.206020  2.806384 -0.245747 -1.002717 -1.422059   \n",
       "2  ...  0.187123 -1.953549  1.195269 -0.740985  0.539231  0.242258 -2.490123   \n",
       "3  ...  0.173293 -1.589008 -1.135694 -0.693458  0.005279 -1.524946 -3.134480   \n",
       "4  ... -0.057663 -3.733739 -6.457394 -4.281969 -3.244542 -6.811999 -0.880189   \n",
       "\n",
       "     mfcc18    mfcc19  emotion  \n",
       "0  2.271643  1.772467        4  \n",
       "1  2.155927  0.731970        2  \n",
       "2  2.111624  2.165533        1  \n",
       "3 -0.098739  0.932513        4  \n",
       "4 -2.193330  1.708981        5  \n",
       "\n",
       "[5 rows x 26 columns]"
      ]
     },
     "execution_count": 8,
     "metadata": {},
     "output_type": "execute_result"
    }
   ],
   "source": [
    "df.head()"
   ]
  },
  {
   "cell_type": "code",
   "execution_count": 11,
   "metadata": {},
   "outputs": [],
   "source": [
    "emotion = df['emotion']\n",
    "encoder = LabelEncoder()\n",
    "y = encoder.fit_transform(emotion)"
   ]
  },
  {
   "cell_type": "code",
   "execution_count": 12,
   "metadata": {},
   "outputs": [],
   "source": [
    "scaler = StandardScaler()\n",
    "X = scaler.fit_transform(np.array(df.iloc[:, 1:], dtype = float))\n",
    "X = X.reshape(X.shape[0], X.shape[1],1)"
   ]
  },
  {
   "cell_type": "code",
   "execution_count": 13,
   "metadata": {},
   "outputs": [
    {
     "data": {
      "text/plain": [
       "(1440, 25, 1)"
      ]
     },
     "execution_count": 13,
     "metadata": {},
     "output_type": "execute_result"
    }
   ],
   "source": [
    "X.shape"
   ]
  },
  {
   "cell_type": "code",
   "execution_count": 16,
   "metadata": {},
   "outputs": [],
   "source": [
    "X_train, X_test, y_train, y_test = train_test_split(X, y, test_size=0.2)"
   ]
  },
  {
   "cell_type": "code",
   "execution_count": 17,
   "metadata": {},
   "outputs": [
    {
     "name": "stderr",
     "output_type": "stream",
     "text": [
      "Using TensorFlow backend.\n"
     ]
    }
   ],
   "source": [
    "from keras.utils import np_utils\n",
    "y_train = np_utils.to_categorical(y_train)\n",
    "y_test = np_utils.to_categorical(y_test)"
   ]
  },
  {
   "cell_type": "code",
   "execution_count": 20,
   "metadata": {},
   "outputs": [],
   "source": [
    "model = keras.Sequential()\n",
    "\n",
    "model.add(Conv1D(16, 5,padding='same',\n",
    "                 input_shape=(25,1)))\n",
    "model.add(Activation('relu'))\n",
    "model.add(Conv1D(32, 5,padding='same'))\n",
    "model.add(Activation('relu'))\n",
    "model.add(Dropout(0.1))\n",
    "model.add(Conv1D(64, 5,padding='same',))\n",
    "model.add(Activation('relu'))\n",
    "model.add(Conv1D(128, 5,padding='same'))\n",
    "model.add(Activation('relu'))\n",
    "\n",
    "model.add(MaxPooling1D(pool_size=(8)))\n",
    "\n",
    "model.add(Dense(128))\n",
    "model.add(Activation('relu'))\n",
    "model.add(Dropout(0.1))\n",
    "model.add(Dense(64))\n",
    "model.add(Activation('relu'))\n",
    "## unstacking rows of pixels in the image and lining them up\n",
    "model.add(keras.layers.Flatten(input_shape=(X.shape[1], X.shape[2])))\n",
    "## The second (and last) layer is a 10-node softmax layer that \n",
    "##    returns an array of 10 probability scores that sum to 1\n",
    "model.add(keras.layers.Dense(8, activation='softmax'))\n",
    "\n",
    "model.compile(optimizer='adam',\n",
    "              loss='categorical_crossentropy',\n",
    "              metrics=['accuracy'])"
   ]
  },
  {
   "cell_type": "code",
   "execution_count": 21,
   "metadata": {},
   "outputs": [
    {
     "name": "stdout",
     "output_type": "stream",
     "text": [
      "Model: \"sequential_1\"\n",
      "_________________________________________________________________\n",
      "Layer (type)                 Output Shape              Param #   \n",
      "=================================================================\n",
      "conv1d_1 (Conv1D)            (None, 25, 16)            96        \n",
      "_________________________________________________________________\n",
      "activation_1 (Activation)    (None, 25, 16)            0         \n",
      "_________________________________________________________________\n",
      "conv1d_2 (Conv1D)            (None, 25, 32)            2592      \n",
      "_________________________________________________________________\n",
      "activation_2 (Activation)    (None, 25, 32)            0         \n",
      "_________________________________________________________________\n",
      "dropout_1 (Dropout)          (None, 25, 32)            0         \n",
      "_________________________________________________________________\n",
      "conv1d_3 (Conv1D)            (None, 25, 64)            10304     \n",
      "_________________________________________________________________\n",
      "activation_3 (Activation)    (None, 25, 64)            0         \n",
      "_________________________________________________________________\n",
      "conv1d_4 (Conv1D)            (None, 25, 128)           41088     \n",
      "_________________________________________________________________\n",
      "activation_4 (Activation)    (None, 25, 128)           0         \n",
      "_________________________________________________________________\n",
      "max_pooling1d_1 (MaxPooling1 (None, 3, 128)            0         \n",
      "_________________________________________________________________\n",
      "dense_1 (Dense)              (None, 3, 128)            16512     \n",
      "_________________________________________________________________\n",
      "activation_5 (Activation)    (None, 3, 128)            0         \n",
      "_________________________________________________________________\n",
      "dropout_2 (Dropout)          (None, 3, 128)            0         \n",
      "_________________________________________________________________\n",
      "dense_2 (Dense)              (None, 3, 64)             8256      \n",
      "_________________________________________________________________\n",
      "activation_6 (Activation)    (None, 3, 64)             0         \n",
      "_________________________________________________________________\n",
      "flatten_1 (Flatten)          (None, 192)               0         \n",
      "_________________________________________________________________\n",
      "dense_3 (Dense)              (None, 8)                 1544      \n",
      "=================================================================\n",
      "Total params: 80,392\n",
      "Trainable params: 80,392\n",
      "Non-trainable params: 0\n",
      "_________________________________________________________________\n"
     ]
    }
   ],
   "source": [
    "model.summary()"
   ]
  },
  {
   "cell_type": "code",
   "execution_count": 22,
   "metadata": {},
   "outputs": [
    {
     "name": "stdout",
     "output_type": "stream",
     "text": [
      "Train on 1152 samples, validate on 288 samples\n",
      "Epoch 1/15\n",
      "1152/1152 [==============================] - 1s 760us/step - loss: 2.0130 - accuracy: 0.1884 - val_loss: 1.8898 - val_accuracy: 0.2292\n",
      "Epoch 2/15\n",
      "1152/1152 [==============================] - 0s 383us/step - loss: 1.6650 - accuracy: 0.3620 - val_loss: 1.4697 - val_accuracy: 0.4375\n",
      "Epoch 3/15\n",
      "1152/1152 [==============================] - 0s 380us/step - loss: 1.1030 - accuracy: 0.5677 - val_loss: 0.9054 - val_accuracy: 0.6597\n",
      "Epoch 4/15\n",
      "1152/1152 [==============================] - 0s 376us/step - loss: 0.7604 - accuracy: 0.6849 - val_loss: 0.6634 - val_accuracy: 0.7396\n",
      "Epoch 5/15\n",
      "1152/1152 [==============================] - 1s 474us/step - loss: 0.5379 - accuracy: 0.7891 - val_loss: 0.4197 - val_accuracy: 0.8542\n",
      "Epoch 6/15\n",
      "1152/1152 [==============================] - 1s 455us/step - loss: 0.4564 - accuracy: 0.8134 - val_loss: 0.4293 - val_accuracy: 0.8264\n",
      "Epoch 7/15\n",
      "1152/1152 [==============================] - 0s 385us/step - loss: 0.3543 - accuracy: 0.8576 - val_loss: 0.3135 - val_accuracy: 0.8924\n",
      "Epoch 8/15\n",
      "1152/1152 [==============================] - 0s 386us/step - loss: 0.3380 - accuracy: 0.8663 - val_loss: 0.2812 - val_accuracy: 0.9028\n",
      "Epoch 9/15\n",
      "1152/1152 [==============================] - 0s 383us/step - loss: 0.2407 - accuracy: 0.9132 - val_loss: 0.2507 - val_accuracy: 0.8854\n",
      "Epoch 10/15\n",
      "1152/1152 [==============================] - 0s 387us/step - loss: 0.2260 - accuracy: 0.9219 - val_loss: 0.2723 - val_accuracy: 0.9028\n",
      "Epoch 11/15\n",
      "1152/1152 [==============================] - 0s 380us/step - loss: 0.2398 - accuracy: 0.9106 - val_loss: 0.3771 - val_accuracy: 0.8576\n",
      "Epoch 12/15\n",
      "1152/1152 [==============================] - 0s 385us/step - loss: 0.2031 - accuracy: 0.9314 - val_loss: 0.2340 - val_accuracy: 0.9271\n",
      "Epoch 13/15\n",
      "1152/1152 [==============================] - 0s 378us/step - loss: 0.1669 - accuracy: 0.9358 - val_loss: 0.1890 - val_accuracy: 0.9340\n",
      "Epoch 14/15\n",
      "1152/1152 [==============================] - 0s 381us/step - loss: 0.1162 - accuracy: 0.9583 - val_loss: 0.1686 - val_accuracy: 0.9514\n",
      "Epoch 15/15\n",
      "1152/1152 [==============================] - 0s 384us/step - loss: 0.1151 - accuracy: 0.9566 - val_loss: 0.2535 - val_accuracy: 0.9062\n"
     ]
    }
   ],
   "source": [
    "model.compile(optimizer='adam',\n",
    "              loss='categorical_crossentropy',\n",
    "              metrics=['accuracy'])\n",
    "history=model.fit(X_train, y_train, batch_size=16, epochs=15, validation_data=(X_test, y_test))"
   ]
  },
  {
   "cell_type": "code",
   "execution_count": 26,
   "metadata": {},
   "outputs": [
    {
     "data": {
      "image/png": "[encoded data removed]",
      "text/plain": [
       "<Figure size 432x288 with 1 Axes>"
      ]
     },
     "metadata": {
      "needs_background": "light"
     },
     "output_type": "display_data"
    }
   ],
   "source": [
    "plt.plot(history.history['loss'])\n",
    "plt.plot(history.history['val_loss'])\n",
    "plt.title('model loss')\n",
    "plt.ylabel('loss')\n",
    "plt.xlabel('epoch')\n",
    "plt.legend(['train', 'test'], loc='upper left')\n",
    "plt.show()"
   ]
  },
  {
   "cell_type": "code",
   "execution_count": 27,
   "metadata": {},
   "outputs": [
    {
     "name": "stdout",
     "output_type": "stream",
     "text": [
      "accuracy: 90.62%\n"
     ]
    }
   ],
   "source": [
    "score = model.evaluate(X_test, y_test, verbose=0)\n",
    "print(\"%s: %.2f%%\" % (model.metrics_names[1], score[1]*100))"
   ]
  },
  {
   "cell_type": "code",
   "execution_count": 28,
   "metadata": {},
   "outputs": [
    {
     "name": "stdout",
     "output_type": "stream",
     "text": [
      "288/288 [==============================] - 0s 231us/step\n"
     ]
    }
   ],
   "source": [
    "preds = model.predict(X_test, \n",
    "                         batch_size=32, \n",
    "                         verbose=1)\n",
    "\n",
    "preds1=preds.argmax(axis=1)\n",
    "abc = preds1.astype(int).flatten()\n",
    "predictions = (encoder.inverse_transform((abc)))"
   ]
  },
  {
   "cell_type": "code",
   "execution_count": 30,
   "metadata": {},
   "outputs": [
    {
     "data": {
      "text/html": [
       "<div>\n",
       "<style scoped>\n",
       "    .dataframe tbody tr th:only-of-type {\n",
       "        vertical-align: middle;\n",
       "    }\n",
       "\n",
       "    .dataframe tbody tr th {\n",
       "        vertical-align: top;\n",
       "    }\n",
       "\n",
       "    .dataframe thead th {\n",
       "        text-align: right;\n",
       "    }\n",
       "</style>\n",
       "<table border=\"1\" class=\"dataframe\">\n",
       "  <thead>\n",
       "    <tr style=\"text-align: right;\">\n",
       "      <th></th>\n",
       "      <th>actualvalues</th>\n",
       "      <th>predictedvalues</th>\n",
       "    </tr>\n",
       "  </thead>\n",
       "  <tbody>\n",
       "    <tr>\n",
       "      <th>0</th>\n",
       "      <td>6</td>\n",
       "      <td>6</td>\n",
       "    </tr>\n",
       "    <tr>\n",
       "      <th>1</th>\n",
       "      <td>4</td>\n",
       "      <td>4</td>\n",
       "    </tr>\n",
       "    <tr>\n",
       "      <th>2</th>\n",
       "      <td>8</td>\n",
       "      <td>8</td>\n",
       "    </tr>\n",
       "    <tr>\n",
       "      <th>3</th>\n",
       "      <td>5</td>\n",
       "      <td>5</td>\n",
       "    </tr>\n",
       "    <tr>\n",
       "      <th>4</th>\n",
       "      <td>8</td>\n",
       "      <td>8</td>\n",
       "    </tr>\n",
       "  </tbody>\n",
       "</table>\n",
       "</div>"
      ],
      "text/plain": [
       "   actualvalues  predictedvalues\n",
       "0             6                6\n",
       "1             4                4\n",
       "2             8                8\n",
       "3             5                5\n",
       "4             8                8"
      ]
     },
     "execution_count": 30,
     "metadata": {},
     "output_type": "execute_result"
    }
   ],
   "source": [
    "preddf = pd.DataFrame({'predictedvalues': predictions})\n",
    "actual=y_test.argmax(axis=1).astype(int).flatten()\n",
    "actualvalues = (encoder.inverse_transform((actual)))\n",
    "actualdf = pd.DataFrame({'actualvalues': actualvalues})\n",
    "finaldf = actualdf.join(preddf)\n",
    "finaldf.head()"
   ]
  },
  {
   "cell_type": "code",
   "execution_count": 31,
   "metadata": {},
   "outputs": [
    {
     "data": {
      "text/html": [
       "<div>\n",
       "<style scoped>\n",
       "    .dataframe tbody tr th:only-of-type {\n",
       "        vertical-align: middle;\n",
       "    }\n",
       "\n",
       "    .dataframe tbody tr th {\n",
       "        vertical-align: top;\n",
       "    }\n",
       "\n",
       "    .dataframe thead th {\n",
       "        text-align: right;\n",
       "    }\n",
       "</style>\n",
       "<table border=\"1\" class=\"dataframe\">\n",
       "  <thead>\n",
       "    <tr style=\"text-align: right;\">\n",
       "      <th></th>\n",
       "      <th>predictedvalues</th>\n",
       "    </tr>\n",
       "    <tr>\n",
       "      <th>actualvalues</th>\n",
       "      <th></th>\n",
       "    </tr>\n",
       "  </thead>\n",
       "  <tbody>\n",
       "    <tr>\n",
       "      <th>1</th>\n",
       "      <td>23</td>\n",
       "    </tr>\n",
       "    <tr>\n",
       "      <th>2</th>\n",
       "      <td>35</td>\n",
       "    </tr>\n",
       "    <tr>\n",
       "      <th>3</th>\n",
       "      <td>40</td>\n",
       "    </tr>\n",
       "    <tr>\n",
       "      <th>4</th>\n",
       "      <td>41</td>\n",
       "    </tr>\n",
       "    <tr>\n",
       "      <th>5</th>\n",
       "      <td>39</td>\n",
       "    </tr>\n",
       "    <tr>\n",
       "      <th>6</th>\n",
       "      <td>39</td>\n",
       "    </tr>\n",
       "    <tr>\n",
       "      <th>7</th>\n",
       "      <td>43</td>\n",
       "    </tr>\n",
       "    <tr>\n",
       "      <th>8</th>\n",
       "      <td>28</td>\n",
       "    </tr>\n",
       "  </tbody>\n",
       "</table>\n",
       "</div>"
      ],
      "text/plain": [
       "              predictedvalues\n",
       "actualvalues                 \n",
       "1                          23\n",
       "2                          35\n",
       "3                          40\n",
       "4                          41\n",
       "5                          39\n",
       "6                          39\n",
       "7                          43\n",
       "8                          28"
      ]
     },
     "execution_count": 31,
     "metadata": {},
     "output_type": "execute_result"
    }
   ],
   "source": [
    "finaldf.groupby('actualvalues').count()"
   ]
  },
  {
   "cell_type": "code",
   "execution_count": 32,
   "metadata": {},
   "outputs": [
    {
     "data": {
      "text/html": [
       "<div>\n",
       "<style scoped>\n",
       "    .dataframe tbody tr th:only-of-type {\n",
       "        vertical-align: middle;\n",
       "    }\n",
       "\n",
       "    .dataframe tbody tr th {\n",
       "        vertical-align: top;\n",
       "    }\n",
       "\n",
       "    .dataframe thead th {\n",
       "        text-align: right;\n",
       "    }\n",
       "</style>\n",
       "<table border=\"1\" class=\"dataframe\">\n",
       "  <thead>\n",
       "    <tr style=\"text-align: right;\">\n",
       "      <th></th>\n",
       "      <th>actualvalues</th>\n",
       "    </tr>\n",
       "    <tr>\n",
       "      <th>predictedvalues</th>\n",
       "      <th></th>\n",
       "    </tr>\n",
       "  </thead>\n",
       "  <tbody>\n",
       "    <tr>\n",
       "      <th>1</th>\n",
       "      <td>22</td>\n",
       "    </tr>\n",
       "    <tr>\n",
       "      <th>2</th>\n",
       "      <td>38</td>\n",
       "    </tr>\n",
       "    <tr>\n",
       "      <th>3</th>\n",
       "      <td>40</td>\n",
       "    </tr>\n",
       "    <tr>\n",
       "      <th>4</th>\n",
       "      <td>38</td>\n",
       "    </tr>\n",
       "    <tr>\n",
       "      <th>5</th>\n",
       "      <td>40</td>\n",
       "    </tr>\n",
       "    <tr>\n",
       "      <th>6</th>\n",
       "      <td>38</td>\n",
       "    </tr>\n",
       "    <tr>\n",
       "      <th>7</th>\n",
       "      <td>28</td>\n",
       "    </tr>\n",
       "    <tr>\n",
       "      <th>8</th>\n",
       "      <td>44</td>\n",
       "    </tr>\n",
       "  </tbody>\n",
       "</table>\n",
       "</div>"
      ],
      "text/plain": [
       "                 actualvalues\n",
       "predictedvalues              \n",
       "1                          22\n",
       "2                          38\n",
       "3                          40\n",
       "4                          38\n",
       "5                          40\n",
       "6                          38\n",
       "7                          28\n",
       "8                          44"
      ]
     },
     "execution_count": 32,
     "metadata": {},
     "output_type": "execute_result"
    }
   ],
   "source": [
    "finaldf.groupby('predictedvalues').count()"
   ]
  },
  {
   "cell_type": "code",
   "execution_count": 33,
   "metadata": {},
   "outputs": [],
   "source": [
    "import pickle\n",
    "\n",
    "# make pickled file ('wb' = write)\n",
    "pickle.dump(model, open('model.p','wb'))"
   ]
  },
  {
   "cell_type": "code",
   "execution_count": 34,
   "metadata": {},
   "outputs": [],
   "source": [
    "pickle_model = pickle.load(open('model.p','rb'))"
   ]
  },
  {
   "cell_type": "code",
   "execution_count": 39,
   "metadata": {},
   "outputs": [],
   "source": [
    "def mfcc_sep(x):\n",
    "    lst = []\n",
    "    for i in x:\n",
    "        lst.append(np.mean(i))\n",
    "    return lst"
   ]
  },
  {
   "cell_type": "code",
   "execution_count": 50,
   "metadata": {},
   "outputs": [
    {
     "data": {
      "text/html": [
       "<div>\n",
       "<style scoped>\n",
       "    .dataframe tbody tr th:only-of-type {\n",
       "        vertical-align: middle;\n",
       "    }\n",
       "\n",
       "    .dataframe tbody tr th {\n",
       "        vertical-align: top;\n",
       "    }\n",
       "\n",
       "    .dataframe thead th {\n",
       "        text-align: right;\n",
       "    }\n",
       "</style>\n",
       "<table border=\"1\" class=\"dataframe\">\n",
       "  <thead>\n",
       "    <tr style=\"text-align: right;\">\n",
       "      <th></th>\n",
       "      <th>filename</th>\n",
       "      <th>chroma_stft</th>\n",
       "      <th>spectral_centroid</th>\n",
       "      <th>spectral_bandwidth</th>\n",
       "      <th>rolloff</th>\n",
       "      <th>zero_crossing_rate</th>\n",
       "      <th>mfcc</th>\n",
       "    </tr>\n",
       "  </thead>\n",
       "  <tbody>\n",
       "    <tr>\n",
       "      <th>0</th>\n",
       "      <td>predictions/Clip 4</td>\n",
       "      <td>0.416513</td>\n",
       "      <td>1643.718384</td>\n",
       "      <td>2157.919083</td>\n",
       "      <td>3211.184537</td>\n",
       "      <td>0.056103</td>\n",
       "      <td>[-443.05157, 94.15924, 23.72542, 29.495113, 32...</td>\n",
       "    </tr>\n",
       "  </tbody>\n",
       "</table>\n",
       "</div>"
      ],
      "text/plain": [
       "             filename  chroma_stft  spectral_centroid  spectral_bandwidth  \\\n",
       "0  predictions/Clip 4     0.416513        1643.718384         2157.919083   \n",
       "\n",
       "       rolloff  zero_crossing_rate  \\\n",
       "0  3211.184537            0.056103   \n",
       "\n",
       "                                                mfcc  \n",
       "0  [-443.05157, 94.15924, 23.72542, 29.495113, 32...  "
      ]
     },
     "execution_count": 50,
     "metadata": {},
     "output_type": "execute_result"
    }
   ],
   "source": [
    "df.head()"
   ]
  },
  {
   "cell_type": "code",
   "execution_count": 44,
   "metadata": {},
   "outputs": [],
   "source": [
    "def mfcc_sep(x):\n",
    "    lst = []\n",
    "    for i in x:\n",
    "        lst.append(np.mean(i))\n",
    "    return lst\n",
    "\n",
    "header = ['filename', 'chroma_stft', 'spectral_centroid', 'spectral_bandwidth', 'rolloff', 'zero_crossing_rate','mfcc']\n",
    "\n",
    "df = pd.DataFrame(columns = header)\n",
    "filename = 'predictions/Clip 4'\n",
    "y, sr = librosa.load(filename, mono=True, duration=3)\n",
    "chroma_stft = librosa.feature.chroma_stft(y, sr)\n",
    "spec_cent = librosa.feature.spectral_centroid(y=y, sr=sr)\n",
    "spec_bw = librosa.feature.spectral_bandwidth(y=y, sr=sr)\n",
    "rolloff = librosa.feature.spectral_rolloff(y=y, sr=sr)\n",
    "zcr = librosa.feature.zero_crossing_rate(y)\n",
    "mfcc = librosa.feature.mfcc(y=y, sr=sr)\n",
    "#     mfccs = np.mean(librosa.feature.mfcc(y=y, sr=sr, n_mfcc=13),axis=0)\n",
    "\n",
    "to_append = {'filename':filename, 'chroma_stft': np.mean(chroma_stft), 'spectral_centroid': np.mean(spec_cent), \n",
    "        'spectral_bandwidth':np.mean(spec_bw), 'rolloff':np.mean(rolloff), 'zero_crossing_rate':np.mean(zcr), 'mfcc':mfcc}\n",
    "df = df.append(to_append, ignore_index=True)\n",
    "\n",
    "df['mfcc'] = df['mfcc'].apply(lambda x: mfcc_sep(x))\n",
    "mfcc_list = ['mfcc'+str(i) for i in range(20)]\n",
    "df2 = pd.DataFrame(df['mfcc'].values.tolist(), columns = mfcc_list)\n",
    "df3 = pd.concat([df.drop(columns='mfcc'),df2], axis=1)\n"
   ]
  },
  {
   "cell_type": "code",
   "execution_count": 49,
   "metadata": {},
   "outputs": [],
   "source": [
    "df3 = df3.drop(columns = 'filename')"
   ]
  },
  {
   "cell_type": "code",
   "execution_count": 59,
   "metadata": {},
   "outputs": [],
   "source": [
    "series = df3.iloc[0,:]\n",
    "series = series.to_dict()\n"
   ]
  },
  {
   "cell_type": "code",
   "execution_count": 61,
   "metadata": {},
   "outputs": [
    {
     "ename": "ValueError",
     "evalue": "No data provided for \"conv1d_1_input\". Need data for each key in: ['conv1d_1_input']",
     "output_type": "error",
     "traceback": [
      "\u001b[0;31m---------------------------------------------------------------------------\u001b[0m",
      "\u001b[0;31mKeyError\u001b[0m                                  Traceback (most recent call last)",
      "\u001b[0;32m~/anaconda3/lib/python3.7/site-packages/keras/engine/training_utils.py\u001b[0m in \u001b[0;36mstandardize_input_data\u001b[0;34m(data, names, shapes, check_batch_axis, exception_prefix)\u001b[0m\n\u001b[1;32m     79\u001b[0m                 \u001b[0;32mif\u001b[0m \u001b[0mdata\u001b[0m\u001b[0;34m[\u001b[0m\u001b[0mx\u001b[0m\u001b[0;34m]\u001b[0m\u001b[0;34m.\u001b[0m\u001b[0m__class__\u001b[0m\u001b[0;34m.\u001b[0m\u001b[0m__name__\u001b[0m \u001b[0;34m==\u001b[0m \u001b[0;34m'DataFrame'\u001b[0m \u001b[0;32melse\u001b[0m \u001b[0mdata\u001b[0m\u001b[0;34m[\u001b[0m\u001b[0mx\u001b[0m\u001b[0;34m]\u001b[0m\u001b[0;34m\u001b[0m\u001b[0;34m\u001b[0m\u001b[0m\n\u001b[0;32m---> 80\u001b[0;31m                 \u001b[0;32mfor\u001b[0m \u001b[0mx\u001b[0m \u001b[0;32min\u001b[0m \u001b[0mnames\u001b[0m\u001b[0;34m\u001b[0m\u001b[0;34m\u001b[0m\u001b[0m\n\u001b[0m\u001b[1;32m     81\u001b[0m             ]\n",
      "\u001b[0;32m~/anaconda3/lib/python3.7/site-packages/keras/engine/training_utils.py\u001b[0m in \u001b[0;36m<listcomp>\u001b[0;34m(.0)\u001b[0m\n\u001b[1;32m     79\u001b[0m                 \u001b[0;32mif\u001b[0m \u001b[0mdata\u001b[0m\u001b[0;34m[\u001b[0m\u001b[0mx\u001b[0m\u001b[0;34m]\u001b[0m\u001b[0;34m.\u001b[0m\u001b[0m__class__\u001b[0m\u001b[0;34m.\u001b[0m\u001b[0m__name__\u001b[0m \u001b[0;34m==\u001b[0m \u001b[0;34m'DataFrame'\u001b[0m \u001b[0;32melse\u001b[0m \u001b[0mdata\u001b[0m\u001b[0;34m[\u001b[0m\u001b[0mx\u001b[0m\u001b[0;34m]\u001b[0m\u001b[0;34m\u001b[0m\u001b[0;34m\u001b[0m\u001b[0m\n\u001b[0;32m---> 80\u001b[0;31m                 \u001b[0;32mfor\u001b[0m \u001b[0mx\u001b[0m \u001b[0;32min\u001b[0m \u001b[0mnames\u001b[0m\u001b[0;34m\u001b[0m\u001b[0;34m\u001b[0m\u001b[0m\n\u001b[0m\u001b[1;32m     81\u001b[0m             ]\n",
      "\u001b[0;31mKeyError\u001b[0m: 'conv1d_1_input'",
      "\nDuring handling of the above exception, another exception occurred:\n",
      "\u001b[0;31mValueError\u001b[0m                                Traceback (most recent call last)",
      "\u001b[0;32m<ipython-input-61-94e3bbc7c6eb>\u001b[0m in \u001b[0;36m<module>\u001b[0;34m\u001b[0m\n\u001b[0;32m----> 1\u001b[0;31m \u001b[0mpickle_model\u001b[0m\u001b[0;34m.\u001b[0m\u001b[0mpredict\u001b[0m\u001b[0;34m(\u001b[0m\u001b[0mseries\u001b[0m\u001b[0;34m)\u001b[0m\u001b[0;34m\u001b[0m\u001b[0;34m\u001b[0m\u001b[0m\n\u001b[0m",
      "\u001b[0;32m~/anaconda3/lib/python3.7/site-packages/keras/engine/training.py\u001b[0m in \u001b[0;36mpredict\u001b[0;34m(self, x, batch_size, verbose, steps, callbacks, max_queue_size, workers, use_multiprocessing)\u001b[0m\n\u001b[1;32m   1439\u001b[0m \u001b[0;34m\u001b[0m\u001b[0m\n\u001b[1;32m   1440\u001b[0m         \u001b[0;31m# Case 2: Symbolic tensors or Numpy array-like.\u001b[0m\u001b[0;34m\u001b[0m\u001b[0;34m\u001b[0m\u001b[0;34m\u001b[0m\u001b[0m\n\u001b[0;32m-> 1441\u001b[0;31m         \u001b[0mx\u001b[0m\u001b[0;34m,\u001b[0m \u001b[0m_\u001b[0m\u001b[0;34m,\u001b[0m \u001b[0m_\u001b[0m \u001b[0;34m=\u001b[0m \u001b[0mself\u001b[0m\u001b[0;34m.\u001b[0m\u001b[0m_standardize_user_data\u001b[0m\u001b[0;34m(\u001b[0m\u001b[0mx\u001b[0m\u001b[0;34m)\u001b[0m\u001b[0;34m\u001b[0m\u001b[0;34m\u001b[0m\u001b[0m\n\u001b[0m\u001b[1;32m   1442\u001b[0m         \u001b[0;32mif\u001b[0m \u001b[0mself\u001b[0m\u001b[0;34m.\u001b[0m\u001b[0mstateful\u001b[0m\u001b[0;34m:\u001b[0m\u001b[0;34m\u001b[0m\u001b[0;34m\u001b[0m\u001b[0m\n\u001b[1;32m   1443\u001b[0m             \u001b[0;32mif\u001b[0m \u001b[0mx\u001b[0m\u001b[0;34m[\u001b[0m\u001b[0;36m0\u001b[0m\u001b[0;34m]\u001b[0m\u001b[0;34m.\u001b[0m\u001b[0mshape\u001b[0m\u001b[0;34m[\u001b[0m\u001b[0;36m0\u001b[0m\u001b[0;34m]\u001b[0m \u001b[0;34m>\u001b[0m \u001b[0mbatch_size\u001b[0m \u001b[0;32mand\u001b[0m \u001b[0mx\u001b[0m\u001b[0;34m[\u001b[0m\u001b[0;36m0\u001b[0m\u001b[0;34m]\u001b[0m\u001b[0;34m.\u001b[0m\u001b[0mshape\u001b[0m\u001b[0;34m[\u001b[0m\u001b[0;36m0\u001b[0m\u001b[0;34m]\u001b[0m \u001b[0;34m%\u001b[0m \u001b[0mbatch_size\u001b[0m \u001b[0;34m!=\u001b[0m \u001b[0;36m0\u001b[0m\u001b[0;34m:\u001b[0m\u001b[0;34m\u001b[0m\u001b[0;34m\u001b[0m\u001b[0m\n",
      "\u001b[0;32m~/anaconda3/lib/python3.7/site-packages/keras/engine/training.py\u001b[0m in \u001b[0;36m_standardize_user_data\u001b[0;34m(self, x, y, sample_weight, class_weight, check_array_lengths, batch_size)\u001b[0m\n\u001b[1;32m    577\u001b[0m             \u001b[0mfeed_input_shapes\u001b[0m\u001b[0;34m,\u001b[0m\u001b[0;34m\u001b[0m\u001b[0;34m\u001b[0m\u001b[0m\n\u001b[1;32m    578\u001b[0m             \u001b[0mcheck_batch_axis\u001b[0m\u001b[0;34m=\u001b[0m\u001b[0;32mFalse\u001b[0m\u001b[0;34m,\u001b[0m  \u001b[0;31m# Don't enforce the batch size.\u001b[0m\u001b[0;34m\u001b[0m\u001b[0;34m\u001b[0m\u001b[0m\n\u001b[0;32m--> 579\u001b[0;31m             exception_prefix='input')\n\u001b[0m\u001b[1;32m    580\u001b[0m \u001b[0;34m\u001b[0m\u001b[0m\n\u001b[1;32m    581\u001b[0m         \u001b[0;32mif\u001b[0m \u001b[0my\u001b[0m \u001b[0;32mis\u001b[0m \u001b[0;32mnot\u001b[0m \u001b[0;32mNone\u001b[0m\u001b[0;34m:\u001b[0m\u001b[0;34m\u001b[0m\u001b[0;34m\u001b[0m\u001b[0m\n",
      "\u001b[0;32m~/anaconda3/lib/python3.7/site-packages/keras/engine/training_utils.py\u001b[0m in \u001b[0;36mstandardize_input_data\u001b[0;34m(data, names, shapes, check_batch_axis, exception_prefix)\u001b[0m\n\u001b[1;32m     83\u001b[0m             raise ValueError('No data provided for \"' + e.args[0] +\n\u001b[1;32m     84\u001b[0m                              \u001b[0;34m'\". Need data '\u001b[0m\u001b[0;34m\u001b[0m\u001b[0;34m\u001b[0m\u001b[0m\n\u001b[0;32m---> 85\u001b[0;31m                              'for each key in: ' + str(names))\n\u001b[0m\u001b[1;32m     86\u001b[0m     \u001b[0;32melif\u001b[0m \u001b[0misinstance\u001b[0m\u001b[0;34m(\u001b[0m\u001b[0mdata\u001b[0m\u001b[0;34m,\u001b[0m \u001b[0mlist\u001b[0m\u001b[0;34m)\u001b[0m\u001b[0;34m:\u001b[0m\u001b[0;34m\u001b[0m\u001b[0;34m\u001b[0m\u001b[0m\n\u001b[1;32m     87\u001b[0m         \u001b[0;32mif\u001b[0m \u001b[0misinstance\u001b[0m\u001b[0;34m(\u001b[0m\u001b[0mdata\u001b[0m\u001b[0;34m[\u001b[0m\u001b[0;36m0\u001b[0m\u001b[0;34m]\u001b[0m\u001b[0;34m,\u001b[0m \u001b[0mlist\u001b[0m\u001b[0;34m)\u001b[0m\u001b[0;34m:\u001b[0m\u001b[0;34m\u001b[0m\u001b[0;34m\u001b[0m\u001b[0m\n",
      "\u001b[0;31mValueError\u001b[0m: No data provided for \"conv1d_1_input\". Need data for each key in: ['conv1d_1_input']"
     ]
    }
   ],
   "source": [
    "pickle_model.predict(series)"
   ]
  },
  {
   "cell_type": "code",
   "execution_count": null,
   "metadata": {},
   "outputs": [],
   "source": []
  }
 ],
 "metadata": {
  "kernelspec": {
   "display_name": "Python 3",
   "language": "python",
   "name": "python3"
  },
  "language_info": {
   "codemirror_mode": {
    "name": "ipython",
    "version": 3
   },
   "file_extension": ".py",
   "mimetype": "text/x-python",
   "name": "python",
   "nbconvert_exporter": "python",
   "pygments_lexer": "ipython3",
   "version": "3.7.3"
  }
 },
 "nbformat": 4,
 "nbformat_minor": 2
}
