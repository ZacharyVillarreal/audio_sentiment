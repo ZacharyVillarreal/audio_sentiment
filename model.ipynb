{
 "cells": [
  {
   "cell_type": "code",
   "execution_count": 2,
   "metadata": {},
   "outputs": [
    {
     "name": "stderr",
     "output_type": "stream",
     "text": [
      "Using TensorFlow backend.\n"
     ]
    }
   ],
   "source": [
    "import pandas as pd\n",
    "import numpy as np\n",
    "import os\n",
    "import matplotlib.pyplot as plt\n",
    "%matplotlib inline\n",
    "\n",
    "import librosa\n",
    "\n",
    "from sklearn.preprocessing import LabelEncoder, StandardScaler\n",
    "from sklearn.model_selection import train_test_split\n",
    "\n",
    "import keras\n",
    "from keras.models import Sequential\n",
    "from keras.layers import Conv1D, Conv2D, MaxPooling1D, Flatten, LSTM, Activation, Dropout, Dense"
   ]
  },
  {
   "cell_type": "markdown",
   "metadata": {},
   "source": [
    "## IMPORT DATA"
   ]
  },
  {
   "cell_type": "code",
   "execution_count": 4,
   "metadata": {},
   "outputs": [],
   "source": [
    "df = pd.read_csv('data/data.csv')"
   ]
  },
  {
   "cell_type": "code",
   "execution_count": 7,
   "metadata": {},
   "outputs": [
    {
     "data": {
      "text/html": [
       "<div>\n",
       "<style scoped>\n",
       "    .dataframe tbody tr th:only-of-type {\n",
       "        vertical-align: middle;\n",
       "    }\n",
       "\n",
       "    .dataframe tbody tr th {\n",
       "        vertical-align: top;\n",
       "    }\n",
       "\n",
       "    .dataframe thead th {\n",
       "        text-align: right;\n",
       "    }\n",
       "</style>\n",
       "<table border=\"1\" class=\"dataframe\">\n",
       "  <thead>\n",
       "    <tr style=\"text-align: right;\">\n",
       "      <th></th>\n",
       "      <th>chroma_stft</th>\n",
       "      <th>spectral_centroid</th>\n",
       "      <th>spectral_bandwidth</th>\n",
       "      <th>rolloff</th>\n",
       "      <th>zero_crossing_rate</th>\n",
       "      <th>mfcc0</th>\n",
       "      <th>mfcc1</th>\n",
       "      <th>mfcc2</th>\n",
       "      <th>mfcc3</th>\n",
       "      <th>mfcc4</th>\n",
       "      <th>...</th>\n",
       "      <th>mfcc11</th>\n",
       "      <th>mfcc12</th>\n",
       "      <th>mfcc13</th>\n",
       "      <th>mfcc14</th>\n",
       "      <th>mfcc15</th>\n",
       "      <th>mfcc16</th>\n",
       "      <th>mfcc17</th>\n",
       "      <th>mfcc18</th>\n",
       "      <th>mfcc19</th>\n",
       "      <th>emotion</th>\n",
       "    </tr>\n",
       "  </thead>\n",
       "  <tbody>\n",
       "    <tr>\n",
       "      <th>0</th>\n",
       "      <td>0.285073</td>\n",
       "      <td>1983.790938</td>\n",
       "      <td>2257.218445</td>\n",
       "      <td>3584.252930</td>\n",
       "      <td>0.075257</td>\n",
       "      <td>-482.625061</td>\n",
       "      <td>98.723747</td>\n",
       "      <td>10.763579</td>\n",
       "      <td>-15.247211</td>\n",
       "      <td>9.086503</td>\n",
       "      <td>...</td>\n",
       "      <td>-1.002849</td>\n",
       "      <td>-7.897387</td>\n",
       "      <td>4.955098</td>\n",
       "      <td>3.673250</td>\n",
       "      <td>4.729796</td>\n",
       "      <td>-2.967993</td>\n",
       "      <td>5.812353</td>\n",
       "      <td>-0.807726</td>\n",
       "      <td>-3.740592</td>\n",
       "      <td>neutral</td>\n",
       "    </tr>\n",
       "    <tr>\n",
       "      <th>1</th>\n",
       "      <td>0.317146</td>\n",
       "      <td>2761.827974</td>\n",
       "      <td>2097.267228</td>\n",
       "      <td>4453.485107</td>\n",
       "      <td>0.160061</td>\n",
       "      <td>-236.182678</td>\n",
       "      <td>57.486309</td>\n",
       "      <td>-10.906199</td>\n",
       "      <td>15.691256</td>\n",
       "      <td>-6.170797</td>\n",
       "      <td>...</td>\n",
       "      <td>7.572874</td>\n",
       "      <td>1.293544</td>\n",
       "      <td>0.161986</td>\n",
       "      <td>-6.448635</td>\n",
       "      <td>-6.156417</td>\n",
       "      <td>-0.231544</td>\n",
       "      <td>13.528853</td>\n",
       "      <td>4.967438</td>\n",
       "      <td>18.646177</td>\n",
       "      <td>fearful</td>\n",
       "    </tr>\n",
       "    <tr>\n",
       "      <th>2</th>\n",
       "      <td>0.278087</td>\n",
       "      <td>2275.676333</td>\n",
       "      <td>2305.452052</td>\n",
       "      <td>4625.024414</td>\n",
       "      <td>0.122916</td>\n",
       "      <td>-260.253021</td>\n",
       "      <td>81.079872</td>\n",
       "      <td>6.040711</td>\n",
       "      <td>1.711222</td>\n",
       "      <td>-39.751842</td>\n",
       "      <td>...</td>\n",
       "      <td>7.407228</td>\n",
       "      <td>-15.825860</td>\n",
       "      <td>8.155030</td>\n",
       "      <td>-5.742045</td>\n",
       "      <td>-7.586360</td>\n",
       "      <td>-5.758427</td>\n",
       "      <td>-1.636331</td>\n",
       "      <td>-10.757888</td>\n",
       "      <td>-1.511348</td>\n",
       "      <td>angry</td>\n",
       "    </tr>\n",
       "    <tr>\n",
       "      <th>3</th>\n",
       "      <td>0.266470</td>\n",
       "      <td>2388.422244</td>\n",
       "      <td>2099.641172</td>\n",
       "      <td>4718.381570</td>\n",
       "      <td>0.112948</td>\n",
       "      <td>-293.535797</td>\n",
       "      <td>52.546513</td>\n",
       "      <td>-40.444359</td>\n",
       "      <td>23.320959</td>\n",
       "      <td>-19.301693</td>\n",
       "      <td>...</td>\n",
       "      <td>8.436443</td>\n",
       "      <td>-16.272163</td>\n",
       "      <td>12.842004</td>\n",
       "      <td>-11.418798</td>\n",
       "      <td>-7.661440</td>\n",
       "      <td>-4.796383</td>\n",
       "      <td>-8.022415</td>\n",
       "      <td>-8.520125</td>\n",
       "      <td>-2.734798</td>\n",
       "      <td>happy</td>\n",
       "    </tr>\n",
       "    <tr>\n",
       "      <th>4</th>\n",
       "      <td>0.242408</td>\n",
       "      <td>1250.156767</td>\n",
       "      <td>2004.454675</td>\n",
       "      <td>2520.326843</td>\n",
       "      <td>0.026874</td>\n",
       "      <td>-413.931061</td>\n",
       "      <td>105.721146</td>\n",
       "      <td>31.009756</td>\n",
       "      <td>25.187531</td>\n",
       "      <td>-8.839246</td>\n",
       "      <td>...</td>\n",
       "      <td>-2.703896</td>\n",
       "      <td>-7.592486</td>\n",
       "      <td>6.028452</td>\n",
       "      <td>-16.085613</td>\n",
       "      <td>1.451131</td>\n",
       "      <td>-7.485082</td>\n",
       "      <td>-1.111561</td>\n",
       "      <td>-6.581056</td>\n",
       "      <td>-7.937854</td>\n",
       "      <td>sad</td>\n",
       "    </tr>\n",
       "  </tbody>\n",
       "</table>\n",
       "<p>5 rows × 26 columns</p>\n",
       "</div>"
      ],
      "text/plain": [
       "   chroma_stft  spectral_centroid  spectral_bandwidth      rolloff  \\\n",
       "0     0.285073        1983.790938         2257.218445  3584.252930   \n",
       "1     0.317146        2761.827974         2097.267228  4453.485107   \n",
       "2     0.278087        2275.676333         2305.452052  4625.024414   \n",
       "3     0.266470        2388.422244         2099.641172  4718.381570   \n",
       "4     0.242408        1250.156767         2004.454675  2520.326843   \n",
       "\n",
       "   zero_crossing_rate       mfcc0       mfcc1      mfcc2      mfcc3  \\\n",
       "0            0.075257 -482.625061   98.723747  10.763579 -15.247211   \n",
       "1            0.160061 -236.182678   57.486309 -10.906199  15.691256   \n",
       "2            0.122916 -260.253021   81.079872   6.040711   1.711222   \n",
       "3            0.112948 -293.535797   52.546513 -40.444359  23.320959   \n",
       "4            0.026874 -413.931061  105.721146  31.009756  25.187531   \n",
       "\n",
       "       mfcc4  ...    mfcc11     mfcc12     mfcc13     mfcc14    mfcc15  \\\n",
       "0   9.086503  ... -1.002849  -7.897387   4.955098   3.673250  4.729796   \n",
       "1  -6.170797  ...  7.572874   1.293544   0.161986  -6.448635 -6.156417   \n",
       "2 -39.751842  ...  7.407228 -15.825860   8.155030  -5.742045 -7.586360   \n",
       "3 -19.301693  ...  8.436443 -16.272163  12.842004 -11.418798 -7.661440   \n",
       "4  -8.839246  ... -2.703896  -7.592486   6.028452 -16.085613  1.451131   \n",
       "\n",
       "     mfcc16     mfcc17     mfcc18     mfcc19  emotion  \n",
       "0 -2.967993   5.812353  -0.807726  -3.740592  neutral  \n",
       "1 -0.231544  13.528853   4.967438  18.646177  fearful  \n",
       "2 -5.758427  -1.636331 -10.757888  -1.511348    angry  \n",
       "3 -4.796383  -8.022415  -8.520125  -2.734798    happy  \n",
       "4 -7.485082  -1.111561  -6.581056  -7.937854      sad  \n",
       "\n",
       "[5 rows x 26 columns]"
      ]
     },
     "execution_count": 7,
     "metadata": {},
     "output_type": "execute_result"
    }
   ],
   "source": [
    "df.head()"
   ]
  },
  {
   "cell_type": "markdown",
   "metadata": {},
   "source": [
    "## CREATE X AND Y"
   ]
  },
  {
   "cell_type": "code",
   "execution_count": 8,
   "metadata": {},
   "outputs": [],
   "source": [
    "emotion = df['emotion']\n",
    "encoder = LabelEncoder()\n",
    "y = encoder.fit_transform(emotion)"
   ]
  },
  {
   "cell_type": "code",
   "execution_count": 9,
   "metadata": {},
   "outputs": [
    {
     "data": {
      "text/plain": [
       "array(['angry', 'disgust', 'fearful', 'happy', 'neutral', 'sad',\n",
       "       'surprised'], dtype=object)"
      ]
     },
     "execution_count": 9,
     "metadata": {},
     "output_type": "execute_result"
    }
   ],
   "source": [
    "encoder.inverse_transform(np.unique(y))"
   ]
  },
  {
   "cell_type": "code",
   "execution_count": 10,
   "metadata": {},
   "outputs": [
    {
     "data": {
      "text/plain": [
       "array([0, 1, 2, 3, 4, 5, 6])"
      ]
     },
     "execution_count": 10,
     "metadata": {},
     "output_type": "execute_result"
    }
   ],
   "source": [
    "np.unique(y)"
   ]
  },
  {
   "cell_type": "code",
   "execution_count": 11,
   "metadata": {},
   "outputs": [],
   "source": [
    "scaler = StandardScaler()\n",
    "X = scaler.fit(np.array(df.iloc[:, :-1], dtype = float))\n",
    "X = scaler.transform(np.array(df.iloc[:, :-1], dtype = float))\n",
    "X = X.reshape(X.shape[0], X.shape[1],1)"
   ]
  },
  {
   "cell_type": "code",
   "execution_count": 13,
   "metadata": {},
   "outputs": [
    {
     "data": {
      "text/plain": [
       "(4712, 25, 1)"
      ]
     },
     "execution_count": 13,
     "metadata": {},
     "output_type": "execute_result"
    }
   ],
   "source": [
    "X.shape"
   ]
  },
  {
   "cell_type": "markdown",
   "metadata": {},
   "source": [
    "## TRAIN_TEST_SPLIT"
   ]
  },
  {
   "cell_type": "code",
   "execution_count": 14,
   "metadata": {},
   "outputs": [],
   "source": [
    "X_train, X_test, y_train, y_test = train_test_split(X, y, test_size=0.2)"
   ]
  },
  {
   "cell_type": "code",
   "execution_count": 15,
   "metadata": {},
   "outputs": [],
   "source": [
    "from keras.utils import np_utils\n",
    "y_train = np_utils.to_categorical(y_train)\n",
    "y_test = np_utils.to_categorical(y_test)"
   ]
  },
  {
   "cell_type": "code",
   "execution_count": 17,
   "metadata": {},
   "outputs": [
    {
     "data": {
      "text/plain": [
       "(3769, 7)"
      ]
     },
     "execution_count": 17,
     "metadata": {},
     "output_type": "execute_result"
    }
   ],
   "source": [
    "y_train.shape"
   ]
  },
  {
   "cell_type": "markdown",
   "metadata": {},
   "source": [
    "## MODEL"
   ]
  },
  {
   "cell_type": "code",
   "execution_count": 21,
   "metadata": {},
   "outputs": [],
   "source": [
    "model = keras.Sequential()\n",
    "\n",
    "model.add(Conv1D(16, 5,padding='same',\n",
    "                 input_shape=(25,1)))\n",
    "model.add(Activation('relu'))\n",
    "model.add(Conv1D(32, 5,padding='same'))\n",
    "model.add(Activation('relu'))\n",
    "model.add(Dropout(0.1))\n",
    "model.add(Conv1D(64, 5,padding='same',))\n",
    "model.add(Activation('relu'))\n",
    "model.add(Conv1D(128, 5,padding='same'))\n",
    "model.add(Activation('relu'))\n",
    "\n",
    "model.add(MaxPooling1D(pool_size=(8)))\n",
    "\n",
    "model.add(Dense(128))\n",
    "model.add(Activation('relu'))\n",
    "model.add(Dropout(0.1))\n",
    "model.add(Dense(64))\n",
    "model.add(Activation('relu'))\n",
    "## unstacking rows of pixels in the image and lining them up\n",
    "model.add(keras.layers.Flatten(input_shape=(X.shape[1], X.shape[2])))\n",
    "## The second (and last) layer is a 10-node softmax layer that \n",
    "##    returns an array of 10 probability scores that sum to 1\n",
    "model.add(keras.layers.Dense(7, activation='softmax'))\n",
    "\n",
    "model.compile(optimizer='adam',\n",
    "              loss='categorical_crossentropy',\n",
    "              metrics=['accuracy'])"
   ]
  },
  {
   "cell_type": "code",
   "execution_count": 22,
   "metadata": {},
   "outputs": [
    {
     "name": "stdout",
     "output_type": "stream",
     "text": [
      "Model: \"sequential_2\"\n",
      "_________________________________________________________________\n",
      "Layer (type)                 Output Shape              Param #   \n",
      "=================================================================\n",
      "conv1d_5 (Conv1D)            (None, 25, 16)            96        \n",
      "_________________________________________________________________\n",
      "activation_7 (Activation)    (None, 25, 16)            0         \n",
      "_________________________________________________________________\n",
      "conv1d_6 (Conv1D)            (None, 25, 32)            2592      \n",
      "_________________________________________________________________\n",
      "activation_8 (Activation)    (None, 25, 32)            0         \n",
      "_________________________________________________________________\n",
      "dropout_3 (Dropout)          (None, 25, 32)            0         \n",
      "_________________________________________________________________\n",
      "conv1d_7 (Conv1D)            (None, 25, 64)            10304     \n",
      "_________________________________________________________________\n",
      "activation_9 (Activation)    (None, 25, 64)            0         \n",
      "_________________________________________________________________\n",
      "conv1d_8 (Conv1D)            (None, 25, 128)           41088     \n",
      "_________________________________________________________________\n",
      "activation_10 (Activation)   (None, 25, 128)           0         \n",
      "_________________________________________________________________\n",
      "max_pooling1d_2 (MaxPooling1 (None, 3, 128)            0         \n",
      "_________________________________________________________________\n",
      "dense_4 (Dense)              (None, 3, 128)            16512     \n",
      "_________________________________________________________________\n",
      "activation_11 (Activation)   (None, 3, 128)            0         \n",
      "_________________________________________________________________\n",
      "dropout_4 (Dropout)          (None, 3, 128)            0         \n",
      "_________________________________________________________________\n",
      "dense_5 (Dense)              (None, 3, 64)             8256      \n",
      "_________________________________________________________________\n",
      "activation_12 (Activation)   (None, 3, 64)             0         \n",
      "_________________________________________________________________\n",
      "flatten_2 (Flatten)          (None, 192)               0         \n",
      "_________________________________________________________________\n",
      "dense_6 (Dense)              (None, 7)                 1351      \n",
      "=================================================================\n",
      "Total params: 80,199\n",
      "Trainable params: 80,199\n",
      "Non-trainable params: 0\n",
      "_________________________________________________________________\n"
     ]
    }
   ],
   "source": [
    "model.summary()"
   ]
  },
  {
   "cell_type": "code",
   "execution_count": 26,
   "metadata": {},
   "outputs": [
    {
     "name": "stdout",
     "output_type": "stream",
     "text": [
      "Train on 3769 samples, validate on 943 samples\n",
      "Epoch 1/19\n",
      "3769/3769 [==============================] - 3s 838us/step - loss: 0.2129 - accuracy: 0.9321 - val_loss: 0.8893 - val_accuracy: 0.7879\n",
      "Epoch 2/19\n",
      "3769/3769 [==============================] - 3s 765us/step - loss: 0.1956 - accuracy: 0.9334 - val_loss: 0.7796 - val_accuracy: 0.8059\n",
      "Epoch 3/19\n",
      "3769/3769 [==============================] - 3s 762us/step - loss: 0.1646 - accuracy: 0.9445 - val_loss: 0.8124 - val_accuracy: 0.7975\n",
      "Epoch 4/19\n",
      "3769/3769 [==============================] - 3s 773us/step - loss: 0.1652 - accuracy: 0.9419 - val_loss: 0.8809 - val_accuracy: 0.7943\n",
      "Epoch 5/19\n",
      "3769/3769 [==============================] - 3s 766us/step - loss: 0.1954 - accuracy: 0.9329 - val_loss: 0.8805 - val_accuracy: 0.7869\n",
      "Epoch 6/19\n",
      "3769/3769 [==============================] - 3s 766us/step - loss: 0.1447 - accuracy: 0.9464 - val_loss: 0.8048 - val_accuracy: 0.8123\n",
      "Epoch 7/19\n",
      "3769/3769 [==============================] - 3s 779us/step - loss: 0.1725 - accuracy: 0.9376 - val_loss: 0.8878 - val_accuracy: 0.7890\n",
      "Epoch 8/19\n",
      "3769/3769 [==============================] - 3s 814us/step - loss: 0.1303 - accuracy: 0.9541 - val_loss: 1.0477 - val_accuracy: 0.7731\n",
      "Epoch 9/19\n",
      "3769/3769 [==============================] - 3s 769us/step - loss: 0.1755 - accuracy: 0.9400 - val_loss: 0.8627 - val_accuracy: 0.8187\n",
      "Epoch 10/19\n",
      "3769/3769 [==============================] - 3s 775us/step - loss: 0.1515 - accuracy: 0.9493 - val_loss: 0.8125 - val_accuracy: 0.8006\n",
      "Epoch 11/19\n",
      "3769/3769 [==============================] - 3s 777us/step - loss: 0.1576 - accuracy: 0.9491 - val_loss: 0.9337 - val_accuracy: 0.7890\n",
      "Epoch 12/19\n",
      "3769/3769 [==============================] - 3s 807us/step - loss: 0.1516 - accuracy: 0.9477 - val_loss: 0.8322 - val_accuracy: 0.7890\n",
      "Epoch 13/19\n",
      "3769/3769 [==============================] - 3s 772us/step - loss: 0.1289 - accuracy: 0.9533 - val_loss: 1.0996 - val_accuracy: 0.7752\n",
      "Epoch 14/19\n",
      "3769/3769 [==============================] - 3s 778us/step - loss: 0.1715 - accuracy: 0.9408 - val_loss: 0.8129 - val_accuracy: 0.8102\n",
      "Epoch 15/19\n",
      "3769/3769 [==============================] - 3s 833us/step - loss: 0.1177 - accuracy: 0.9623 - val_loss: 0.8901 - val_accuracy: 0.8102\n",
      "Epoch 16/19\n",
      "3769/3769 [==============================] - 3s 766us/step - loss: 0.1351 - accuracy: 0.9546 - val_loss: 0.8957 - val_accuracy: 0.8155\n",
      "Epoch 17/19\n",
      "3769/3769 [==============================] - 3s 774us/step - loss: 0.1469 - accuracy: 0.9544 - val_loss: 0.7719 - val_accuracy: 0.7985\n",
      "Epoch 18/19\n",
      "3769/3769 [==============================] - 3s 783us/step - loss: 0.1310 - accuracy: 0.9560 - val_loss: 0.8957 - val_accuracy: 0.8028\n",
      "Epoch 19/19\n",
      "3769/3769 [==============================] - 3s 778us/step - loss: 0.1321 - accuracy: 0.9560 - val_loss: 0.9267 - val_accuracy: 0.8091\n"
     ]
    }
   ],
   "source": [
    "model.compile(optimizer='adam',\n",
    "              loss='categorical_crossentropy',\n",
    "              metrics=['accuracy'])\n",
    "history=model.fit(X_train, y_train, batch_size=5, epochs=19, validation_data=(X_test, y_test))"
   ]
  },
  {
   "cell_type": "code",
   "execution_count": 27,
   "metadata": {},
   "outputs": [
    {
     "data": {
      "image/png": "[encoded data removed]",
      "text/plain": [
       "<Figure size 432x288 with 1 Axes>"
      ]
     },
     "metadata": {
      "needs_background": "light"
     },
     "output_type": "display_data"
    }
   ],
   "source": [
    "plt.plot(history.history['loss'])\n",
    "plt.plot(history.history['val_loss'])\n",
    "plt.title('model loss')\n",
    "plt.ylabel('loss')\n",
    "plt.xlabel('epoch')\n",
    "plt.legend(['train', 'test'], loc='upper left')\n",
    "plt.show()"
   ]
  },
  {
   "cell_type": "code",
   "execution_count": 33,
   "metadata": {},
   "outputs": [
    {
     "name": "stdout",
     "output_type": "stream",
     "text": [
      "accuracy: 80.91%\n"
     ]
    }
   ],
   "source": [
    "score = model.evaluate(X_test, y_test, verbose=0)\n",
    "print(\"%s: %.2f%%\" % (model.metrics_names[1], score[1]*100))"
   ]
  },
  {
   "cell_type": "markdown",
   "metadata": {},
   "source": [
    "## PREDICTIONS"
   ]
  },
  {
   "cell_type": "code",
   "execution_count": 43,
   "metadata": {},
   "outputs": [
    {
     "name": "stdout",
     "output_type": "stream",
     "text": [
      "943/943 [==============================] - 0s 109us/step\n"
     ]
    },
    {
     "data": {
      "text/html": [
       "<div>\n",
       "<style scoped>\n",
       "    .dataframe tbody tr th:only-of-type {\n",
       "        vertical-align: middle;\n",
       "    }\n",
       "\n",
       "    .dataframe tbody tr th {\n",
       "        vertical-align: top;\n",
       "    }\n",
       "\n",
       "    .dataframe thead th {\n",
       "        text-align: right;\n",
       "    }\n",
       "</style>\n",
       "<table border=\"1\" class=\"dataframe\">\n",
       "  <thead>\n",
       "    <tr style=\"text-align: right;\">\n",
       "      <th></th>\n",
       "      <th>actualvalues</th>\n",
       "      <th>predictedvalues</th>\n",
       "    </tr>\n",
       "  </thead>\n",
       "  <tbody>\n",
       "    <tr>\n",
       "      <th>0</th>\n",
       "      <td>sad</td>\n",
       "      <td>sad</td>\n",
       "    </tr>\n",
       "    <tr>\n",
       "      <th>1</th>\n",
       "      <td>neutral</td>\n",
       "      <td>neutral</td>\n",
       "    </tr>\n",
       "    <tr>\n",
       "      <th>2</th>\n",
       "      <td>sad</td>\n",
       "      <td>sad</td>\n",
       "    </tr>\n",
       "    <tr>\n",
       "      <th>3</th>\n",
       "      <td>disgust</td>\n",
       "      <td>sad</td>\n",
       "    </tr>\n",
       "    <tr>\n",
       "      <th>4</th>\n",
       "      <td>happy</td>\n",
       "      <td>happy</td>\n",
       "    </tr>\n",
       "  </tbody>\n",
       "</table>\n",
       "</div>"
      ],
      "text/plain": [
       "  actualvalues predictedvalues\n",
       "0          sad             sad\n",
       "1      neutral         neutral\n",
       "2          sad             sad\n",
       "3      disgust             sad\n",
       "4        happy           happy"
      ]
     },
     "execution_count": 43,
     "metadata": {},
     "output_type": "execute_result"
    }
   ],
   "source": [
    "preds = model.predict(X_test, \n",
    "                         batch_size=32, \n",
    "                         verbose=1)\n",
    "\n",
    "preds1=preds.argmax(axis=1)\n",
    "abc = preds1.astype(int).flatten()\n",
    "predictions = (encoder.inverse_transform((abc)))\n",
    "\n",
    "preddf = pd.DataFrame({'predictedvalues': predictions})\n",
    "actual=y_test.argmax(axis=1).astype(int).flatten()\n",
    "actualvalues = (encoder.inverse_transform((actual)))\n",
    "actualdf = pd.DataFrame({'actualvalues': actualvalues})\n",
    "finaldf = actualdf.join(preddf)\n",
    "finaldf.head()"
   ]
  },
  {
   "cell_type": "code",
   "execution_count": null,
   "metadata": {},
   "outputs": [],
   "source": []
  },
  {
   "cell_type": "code",
   "execution_count": null,
   "metadata": {},
   "outputs": [],
   "source": []
  },
  {
   "cell_type": "code",
   "execution_count": 44,
   "metadata": {},
   "outputs": [
    {
     "data": {
      "text/html": [
       "<div>\n",
       "<style scoped>\n",
       "    .dataframe tbody tr th:only-of-type {\n",
       "        vertical-align: middle;\n",
       "    }\n",
       "\n",
       "    .dataframe tbody tr th {\n",
       "        vertical-align: top;\n",
       "    }\n",
       "\n",
       "    .dataframe thead th {\n",
       "        text-align: right;\n",
       "    }\n",
       "</style>\n",
       "<table border=\"1\" class=\"dataframe\">\n",
       "  <thead>\n",
       "    <tr style=\"text-align: right;\">\n",
       "      <th></th>\n",
       "      <th>predictedvalues</th>\n",
       "    </tr>\n",
       "    <tr>\n",
       "      <th>actualvalues</th>\n",
       "      <th></th>\n",
       "    </tr>\n",
       "  </thead>\n",
       "  <tbody>\n",
       "    <tr>\n",
       "      <th>angry</th>\n",
       "      <td>139</td>\n",
       "    </tr>\n",
       "    <tr>\n",
       "      <th>disgust</th>\n",
       "      <td>126</td>\n",
       "    </tr>\n",
       "    <tr>\n",
       "      <th>fearful</th>\n",
       "      <td>128</td>\n",
       "    </tr>\n",
       "    <tr>\n",
       "      <th>happy</th>\n",
       "      <td>133</td>\n",
       "    </tr>\n",
       "    <tr>\n",
       "      <th>neutral</th>\n",
       "      <td>147</td>\n",
       "    </tr>\n",
       "    <tr>\n",
       "      <th>sad</th>\n",
       "      <td>147</td>\n",
       "    </tr>\n",
       "    <tr>\n",
       "      <th>surprised</th>\n",
       "      <td>123</td>\n",
       "    </tr>\n",
       "  </tbody>\n",
       "</table>\n",
       "</div>"
      ],
      "text/plain": [
       "              predictedvalues\n",
       "actualvalues                 \n",
       "angry                     139\n",
       "disgust                   126\n",
       "fearful                   128\n",
       "happy                     133\n",
       "neutral                   147\n",
       "sad                       147\n",
       "surprised                 123"
      ]
     },
     "execution_count": 44,
     "metadata": {},
     "output_type": "execute_result"
    }
   ],
   "source": [
    "finaldf.groupby('actualvalues').count()"
   ]
  },
  {
   "cell_type": "code",
   "execution_count": 45,
   "metadata": {},
   "outputs": [
    {
     "data": {
      "text/html": [
       "<div>\n",
       "<style scoped>\n",
       "    .dataframe tbody tr th:only-of-type {\n",
       "        vertical-align: middle;\n",
       "    }\n",
       "\n",
       "    .dataframe tbody tr th {\n",
       "        vertical-align: top;\n",
       "    }\n",
       "\n",
       "    .dataframe thead th {\n",
       "        text-align: right;\n",
       "    }\n",
       "</style>\n",
       "<table border=\"1\" class=\"dataframe\">\n",
       "  <thead>\n",
       "    <tr style=\"text-align: right;\">\n",
       "      <th></th>\n",
       "      <th>actualvalues</th>\n",
       "    </tr>\n",
       "    <tr>\n",
       "      <th>predictedvalues</th>\n",
       "      <th></th>\n",
       "    </tr>\n",
       "  </thead>\n",
       "  <tbody>\n",
       "    <tr>\n",
       "      <th>angry</th>\n",
       "      <td>138</td>\n",
       "    </tr>\n",
       "    <tr>\n",
       "      <th>disgust</th>\n",
       "      <td>132</td>\n",
       "    </tr>\n",
       "    <tr>\n",
       "      <th>fearful</th>\n",
       "      <td>109</td>\n",
       "    </tr>\n",
       "    <tr>\n",
       "      <th>happy</th>\n",
       "      <td>135</td>\n",
       "    </tr>\n",
       "    <tr>\n",
       "      <th>neutral</th>\n",
       "      <td>184</td>\n",
       "    </tr>\n",
       "    <tr>\n",
       "      <th>sad</th>\n",
       "      <td>116</td>\n",
       "    </tr>\n",
       "    <tr>\n",
       "      <th>surprised</th>\n",
       "      <td>129</td>\n",
       "    </tr>\n",
       "  </tbody>\n",
       "</table>\n",
       "</div>"
      ],
      "text/plain": [
       "                 actualvalues\n",
       "predictedvalues              \n",
       "angry                     138\n",
       "disgust                   132\n",
       "fearful                   109\n",
       "happy                     135\n",
       "neutral                   184\n",
       "sad                       116\n",
       "surprised                 129"
      ]
     },
     "execution_count": 45,
     "metadata": {},
     "output_type": "execute_result"
    }
   ],
   "source": [
    "finaldf.groupby('predictedvalues').count()"
   ]
  },
  {
   "cell_type": "markdown",
   "metadata": {},
   "source": [
    "## PICKLE MODEL"
   ]
  },
  {
   "cell_type": "code",
   "execution_count": 47,
   "metadata": {},
   "outputs": [],
   "source": [
    "import pickle\n",
    "\n",
    "pickle.dump(model, open('pickles/model.p','wb'))\n",
    "pickle.dump(encoder, open('pickles/encoder.p','wb'))\n",
    "pickle.dump(scaler, open('pickles/scaler.p','wb'))"
   ]
  },
  {
   "cell_type": "code",
   "execution_count": 23,
   "metadata": {},
   "outputs": [],
   "source": []
  },
  {
   "cell_type": "code",
   "execution_count": null,
   "metadata": {},
   "outputs": [],
   "source": []
  },
  {
   "cell_type": "code",
   "execution_count": null,
   "metadata": {},
   "outputs": [],
   "source": []
  }
 ],
 "metadata": {
  "kernelspec": {
   "display_name": "Python 3",
   "language": "python",
   "name": "python3"
  },
  "language_info": {
   "codemirror_mode": {
    "name": "ipython",
    "version": 3
   },
   "file_extension": ".py",
   "mimetype": "text/x-python",
   "name": "python",
   "nbconvert_exporter": "python",
   "pygments_lexer": "ipython3",
   "version": "3.7.3"
  }
 },
 "nbformat": 4,
 "nbformat_minor": 2
}
