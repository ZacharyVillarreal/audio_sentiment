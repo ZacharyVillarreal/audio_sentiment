{
 "cells": [
  {
   "cell_type": "code",
   "execution_count": 1,
   "metadata": {},
   "outputs": [],
   "source": [
    "import pandas as pd\n",
    "import os"
   ]
  },
  {
   "cell_type": "code",
   "execution_count": 2,
   "metadata": {},
   "outputs": [],
   "source": [
    "from src.feature_extraction import feature_extraction\n",
    "\n",
    "df_radvess = feature_extraction('radvess')\n",
    "df_tess = feature_extraction('tess')\n",
    "df_savee = feature_extraction('savee')\n",
    "\n",
    "\n",
    "df_radvess.to_csv('data/radvess.csv', index=False)\n",
    "df_tess.to_csv('data/tess.csv', index=False)\n",
    "df_savee.to_csv('data/savee.csv', index=False)"
   ]
  },
  {
   "cell_type": "code",
   "execution_count": 3,
   "metadata": {},
   "outputs": [],
   "source": [
    "df_tess = pd.read_csv('data/tess.csv')\n",
    "df_radvess = pd.read_csv('data/radvess.csv')\n",
    "df_savee = pd.read_csv('data/savee.csv')"
   ]
  },
  {
   "cell_type": "code",
   "execution_count": 4,
   "metadata": {},
   "outputs": [],
   "source": [
    "from src.clean_data import clean_radvess, clean_tess, clean_savee\n",
    "\n",
    "df_tess = clean_tess(df_tess)\n",
    "df_radvess = clean_radvess(df_radvess)\n",
    "df_savee = clean_savee(df_savee)"
   ]
  },
  {
   "cell_type": "code",
   "execution_count": 5,
   "metadata": {},
   "outputs": [],
   "source": [
    "df = pd.concat([df_tess, df_radvess, df_savee], axis=0)"
   ]
  },
  {
   "cell_type": "code",
   "execution_count": 13,
   "metadata": {},
   "outputs": [],
   "source": [
    "def uniform_emotion(x):\n",
    "    emotion_dict = {'fear' : 'fearful', 'ps' : 'surprised', 'calm' : 'neutral'}\n",
    "    if x in emotion_dict:\n",
    "        return emotion_dict[x]\n",
    "    else: return x\n",
    "\n",
    "df['emotion'] = df['emotion'].apply(lambda x: uniform_emotion(x))\n",
    "df = df[df['emotion'].notnull()]"
   ]
  },
  {
   "cell_type": "code",
   "execution_count": 15,
   "metadata": {},
   "outputs": [],
   "source": [
    "df.to_csv('data/data.csv', index=False)"
   ]
  },
  {
   "cell_type": "code",
   "execution_count": null,
   "metadata": {},
   "outputs": [],
   "source": []
  },
  {
   "cell_type": "code",
   "execution_count": null,
   "metadata": {},
   "outputs": [],
   "source": []
  }
 ],
 "metadata": {
  "kernelspec": {
   "display_name": "Python 3",
   "language": "python",
   "name": "python3"
  },
  "language_info": {
   "codemirror_mode": {
    "name": "ipython",
    "version": 3
   },
   "file_extension": ".py",
   "mimetype": "text/x-python",
   "name": "python",
   "nbconvert_exporter": "python",
   "pygments_lexer": "ipython3",
   "version": "3.7.3"
  }
 },
 "nbformat": 4,
 "nbformat_minor": 2
}
